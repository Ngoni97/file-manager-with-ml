{
 "cells": [
  {
   "cell_type": "code",
   "execution_count": 1,
   "id": "90c19485-8eeb-4a45-af2f-4df1a7d14462",
   "metadata": {
    "tags": []
   },
   "outputs": [
    {
     "name": "stdout",
     "output_type": "stream",
     "text": [
      "Keys of iris_dataset: \n",
      "dict_keys(['data', 'target', 'frame', 'target_names', 'DESCR', 'feature_names', 'filename', 'data_module'])\n"
     ]
    }
   ],
   "source": [
    "# my first machine learning code\n",
    "\n",
    "import numpy as np\n",
    "import matplotlib.pyplot as plt\n",
    "import pandas as pd\n",
    "#import mglearn\n",
    "# loading the datasets\n",
    "from sklearn.datasets import load_iris\n",
    "iris_dataset = load_iris()\n",
    "\n",
    "print('Keys of iris_dataset: \\n{}'.format(iris_dataset.keys()))"
   ]
  },
  {
   "cell_type": "code",
   "execution_count": 3,
   "id": "c27f398c-711e-4f81-b94a-3a5bf8b97a0b",
   "metadata": {
    "tags": []
   },
   "outputs": [],
   "source": [
    "#print(iris_dataset['DESCR'][:] + '\\n...')"
   ]
  },
  {
   "cell_type": "code",
   "execution_count": 2,
   "id": "5f7308b0-5f53-4ace-a423-d43c2b927880",
   "metadata": {
    "tags": []
   },
   "outputs": [
    {
     "name": "stdout",
     "output_type": "stream",
     "text": [
      "Target names: ['setosa' 'versicolor' 'virginica']\n"
     ]
    }
   ],
   "source": [
    "print(\"Target names: {}\".format(iris_dataset['target_names']))"
   ]
  },
  {
   "cell_type": "code",
   "execution_count": 3,
   "id": "69186b69-fb62-4941-9a5e-f3cff22b3c20",
   "metadata": {
    "tags": []
   },
   "outputs": [
    {
     "name": "stdout",
     "output_type": "stream",
     "text": [
      "Feature names: \n",
      "['sepal length (cm)', 'sepal width (cm)', 'petal length (cm)', 'petal width (cm)']\n"
     ]
    }
   ],
   "source": [
    "print(\"Feature names: \\n{}\".format(iris_dataset['feature_names']))"
   ]
  },
  {
   "cell_type": "code",
   "execution_count": 4,
   "id": "ea07cb37-b633-4abb-a8c0-ff67e44ff8ee",
   "metadata": {
    "tags": []
   },
   "outputs": [
    {
     "name": "stdout",
     "output_type": "stream",
     "text": [
      "Type of data: <class 'numpy.ndarray'>\n"
     ]
    }
   ],
   "source": [
    "print('Type of data: {}'.format(type(iris_dataset['data'])))"
   ]
  },
  {
   "cell_type": "code",
   "execution_count": 5,
   "id": "93f1939c-7962-449c-b10c-0252327d1cc5",
   "metadata": {
    "tags": []
   },
   "outputs": [
    {
     "name": "stdout",
     "output_type": "stream",
     "text": [
      "Shape of data: (150, 4)\n"
     ]
    }
   ],
   "source": [
    "print('Shape of data: {}'.format(iris_dataset['data'].shape))"
   ]
  },
  {
   "cell_type": "code",
   "execution_count": 6,
   "id": "1d952197-f665-4e45-a08e-6bc58e6e5b71",
   "metadata": {
    "tags": []
   },
   "outputs": [
    {
     "name": "stdout",
     "output_type": "stream",
     "text": [
      "The first 5 columns of the data: \n",
      "[[5.1 3.5 1.4 0.2]\n",
      " [4.9 3.  1.4 0.2]\n",
      " [4.7 3.2 1.3 0.2]\n",
      " [4.6 3.1 1.5 0.2]\n",
      " [5.  3.6 1.4 0.2]]\n"
     ]
    }
   ],
   "source": [
    "print('The first 5 columns of the data: \\n{}'.format(iris_dataset['data'][:5]))"
   ]
  },
  {
   "cell_type": "code",
   "execution_count": 7,
   "id": "e0ef06c8-e717-4816-b93b-a5c99696bcf8",
   "metadata": {
    "tags": []
   },
   "outputs": [
    {
     "name": "stdout",
     "output_type": "stream",
     "text": [
      "Type of target: <class 'numpy.ndarray'>\n"
     ]
    }
   ],
   "source": [
    "print(\"Type of target: {}\".format(type(iris_dataset['target'])))"
   ]
  },
  {
   "cell_type": "code",
   "execution_count": 8,
   "id": "b898784a-8a4a-42a7-a1f6-18bc1570c421",
   "metadata": {
    "tags": []
   },
   "outputs": [
    {
     "name": "stdout",
     "output_type": "stream",
     "text": [
      "Shape of target: (150,)\n"
     ]
    }
   ],
   "source": [
    "print(\"Shape of target: {}\".format(iris_dataset['target'].shape))"
   ]
  },
  {
   "cell_type": "code",
   "execution_count": 9,
   "id": "fe47c2f3-034b-4f2e-af9e-e1add6dde757",
   "metadata": {
    "tags": []
   },
   "outputs": [
    {
     "name": "stdout",
     "output_type": "stream",
     "text": [
      "Target:\n",
      "[0 0 0 0 0 0 0 0 0 0 0 0 0 0 0 0 0 0 0 0 0 0 0 0 0 0 0 0 0 0 0 0 0 0 0 0 0\n",
      " 0 0 0 0 0 0 0 0 0 0 0 0 0 1 1 1 1 1 1 1 1 1 1 1 1 1 1 1 1 1 1 1 1 1 1 1 1\n",
      " 1 1 1 1 1 1 1 1 1 1 1 1 1 1 1 1 1 1 1 1 1 1 1 1 1 1 2 2 2 2 2 2 2 2 2 2 2\n",
      " 2 2 2 2 2 2 2 2 2 2 2 2 2 2 2 2 2 2 2 2 2 2 2 2 2 2 2 2 2 2 2 2 2 2 2 2 2\n",
      " 2 2]\n"
     ]
    }
   ],
   "source": [
    "print(\"Target:\\n{}\".format(iris_dataset['target']))"
   ]
  },
  {
   "cell_type": "code",
   "execution_count": 10,
   "id": "226ce280-bd97-46ed-8033-d72f68681c11",
   "metadata": {
    "tags": []
   },
   "outputs": [],
   "source": [
    "from sklearn.model_selection import train_test_split\n",
    "X_train, X_test, y_train, y_test = train_test_split(iris_dataset['data'], iris_dataset['target'], random_state=0)"
   ]
  },
  {
   "cell_type": "code",
   "execution_count": 11,
   "id": "0384449f-2640-4d80-bbdb-1b4deb0175d9",
   "metadata": {
    "tags": []
   },
   "outputs": [
    {
     "name": "stdout",
     "output_type": "stream",
     "text": [
      "X_train shape: (112, 4)\n",
      "y_train shape: (112,)\n"
     ]
    }
   ],
   "source": [
    "print(\"X_train shape: {}\".format(X_train.shape))\n",
    "print(\"y_train shape: {}\".format(y_train.shape))"
   ]
  },
  {
   "cell_type": "code",
   "execution_count": 12,
   "id": "6db812e1-7f3c-42fa-83b4-eeb597d8ff70",
   "metadata": {
    "tags": []
   },
   "outputs": [
    {
     "name": "stdout",
     "output_type": "stream",
     "text": [
      "X_test shape: (38, 4)\n",
      "y_test shape: (38,)\n"
     ]
    }
   ],
   "source": [
    "print(\"X_test shape: {}\".format(X_test.shape))\n",
    "print(\"y_test shape: {}\".format(y_test.shape))"
   ]
  },
  {
   "cell_type": "raw",
   "id": "d65b8c31-432a-4e64-b438-2c62ead295a8",
   "metadata": {
    "tags": []
   },
   "source": [
    "# how to bypass: Matplotlib is currently using agg, which is not a no-GUI backend,\n",
    "# so cannot show the figure when plotting figure with pyplot on Jupyterlab\n",
    "%matplotlib inline\n",
    "import tkinter\n",
    "import matplotlib\n",
    "#matplotlib.use('TkAgg')\n",
    "import pandas as pd\n",
    "# create dataframe from data in X_train\n",
    "# label the columns using the strings in iris_dataset.feature_names\n",
    "iris_dataframe = pd.DataFrame(X_train, columns=iris_dataset.feature_names)\n",
    "# create a scatter matrix from the dataframe, color by y_train\n",
    "grr = pd.plotting.scatter_matrix(iris_dataframe, c=y_train, figsize=(15, 15), marker='o',\n",
    "                        hist_kwds={'bins': 20}, s=60, alpha=.8)\n",
    "plt.show()"
   ]
  },
  {
   "cell_type": "code",
   "execution_count": 13,
   "id": "32b0f110-e6fe-4f6d-8f85-f4e2cd2a04f2",
   "metadata": {
    "tags": []
   },
   "outputs": [],
   "source": [
    "from sklearn.neighbors import KNeighborsClassifier\n",
    "knn = KNeighborsClassifier(n_neighbors=1)"
   ]
  },
  {
   "cell_type": "code",
   "execution_count": 14,
   "id": "347186fb-ef09-457a-9be9-f4609210a3f3",
   "metadata": {
    "tags": []
   },
   "outputs": [
    {
     "data": {
      "text/html": [
       "<style>#sk-container-id-1 {\n",
       "  /* Definition of color scheme common for light and dark mode */\n",
       "  --sklearn-color-text: black;\n",
       "  --sklearn-color-line: gray;\n",
       "  /* Definition of color scheme for unfitted estimators */\n",
       "  --sklearn-color-unfitted-level-0: #fff5e6;\n",
       "  --sklearn-color-unfitted-level-1: #f6e4d2;\n",
       "  --sklearn-color-unfitted-level-2: #ffe0b3;\n",
       "  --sklearn-color-unfitted-level-3: chocolate;\n",
       "  /* Definition of color scheme for fitted estimators */\n",
       "  --sklearn-color-fitted-level-0: #f0f8ff;\n",
       "  --sklearn-color-fitted-level-1: #d4ebff;\n",
       "  --sklearn-color-fitted-level-2: #b3dbfd;\n",
       "  --sklearn-color-fitted-level-3: cornflowerblue;\n",
       "\n",
       "  /* Specific color for light theme */\n",
       "  --sklearn-color-text-on-default-background: var(--sg-text-color, var(--theme-code-foreground, var(--jp-content-font-color1, black)));\n",
       "  --sklearn-color-background: var(--sg-background-color, var(--theme-background, var(--jp-layout-color0, white)));\n",
       "  --sklearn-color-border-box: var(--sg-text-color, var(--theme-code-foreground, var(--jp-content-font-color1, black)));\n",
       "  --sklearn-color-icon: #696969;\n",
       "\n",
       "  @media (prefers-color-scheme: dark) {\n",
       "    /* Redefinition of color scheme for dark theme */\n",
       "    --sklearn-color-text-on-default-background: var(--sg-text-color, var(--theme-code-foreground, var(--jp-content-font-color1, white)));\n",
       "    --sklearn-color-background: var(--sg-background-color, var(--theme-background, var(--jp-layout-color0, #111)));\n",
       "    --sklearn-color-border-box: var(--sg-text-color, var(--theme-code-foreground, var(--jp-content-font-color1, white)));\n",
       "    --sklearn-color-icon: #878787;\n",
       "  }\n",
       "}\n",
       "\n",
       "#sk-container-id-1 {\n",
       "  color: var(--sklearn-color-text);\n",
       "}\n",
       "\n",
       "#sk-container-id-1 pre {\n",
       "  padding: 0;\n",
       "}\n",
       "\n",
       "#sk-container-id-1 input.sk-hidden--visually {\n",
       "  border: 0;\n",
       "  clip: rect(1px 1px 1px 1px);\n",
       "  clip: rect(1px, 1px, 1px, 1px);\n",
       "  height: 1px;\n",
       "  margin: -1px;\n",
       "  overflow: hidden;\n",
       "  padding: 0;\n",
       "  position: absolute;\n",
       "  width: 1px;\n",
       "}\n",
       "\n",
       "#sk-container-id-1 div.sk-dashed-wrapped {\n",
       "  border: 1px dashed var(--sklearn-color-line);\n",
       "  margin: 0 0.4em 0.5em 0.4em;\n",
       "  box-sizing: border-box;\n",
       "  padding-bottom: 0.4em;\n",
       "  background-color: var(--sklearn-color-background);\n",
       "}\n",
       "\n",
       "#sk-container-id-1 div.sk-container {\n",
       "  /* jupyter's `normalize.less` sets `[hidden] { display: none; }`\n",
       "     but bootstrap.min.css set `[hidden] { display: none !important; }`\n",
       "     so we also need the `!important` here to be able to override the\n",
       "     default hidden behavior on the sphinx rendered scikit-learn.org.\n",
       "     See: https://github.com/scikit-learn/scikit-learn/issues/21755 */\n",
       "  display: inline-block !important;\n",
       "  position: relative;\n",
       "}\n",
       "\n",
       "#sk-container-id-1 div.sk-text-repr-fallback {\n",
       "  display: none;\n",
       "}\n",
       "\n",
       "div.sk-parallel-item,\n",
       "div.sk-serial,\n",
       "div.sk-item {\n",
       "  /* draw centered vertical line to link estimators */\n",
       "  background-image: linear-gradient(var(--sklearn-color-text-on-default-background), var(--sklearn-color-text-on-default-background));\n",
       "  background-size: 2px 100%;\n",
       "  background-repeat: no-repeat;\n",
       "  background-position: center center;\n",
       "}\n",
       "\n",
       "/* Parallel-specific style estimator block */\n",
       "\n",
       "#sk-container-id-1 div.sk-parallel-item::after {\n",
       "  content: \"\";\n",
       "  width: 100%;\n",
       "  border-bottom: 2px solid var(--sklearn-color-text-on-default-background);\n",
       "  flex-grow: 1;\n",
       "}\n",
       "\n",
       "#sk-container-id-1 div.sk-parallel {\n",
       "  display: flex;\n",
       "  align-items: stretch;\n",
       "  justify-content: center;\n",
       "  background-color: var(--sklearn-color-background);\n",
       "  position: relative;\n",
       "}\n",
       "\n",
       "#sk-container-id-1 div.sk-parallel-item {\n",
       "  display: flex;\n",
       "  flex-direction: column;\n",
       "}\n",
       "\n",
       "#sk-container-id-1 div.sk-parallel-item:first-child::after {\n",
       "  align-self: flex-end;\n",
       "  width: 50%;\n",
       "}\n",
       "\n",
       "#sk-container-id-1 div.sk-parallel-item:last-child::after {\n",
       "  align-self: flex-start;\n",
       "  width: 50%;\n",
       "}\n",
       "\n",
       "#sk-container-id-1 div.sk-parallel-item:only-child::after {\n",
       "  width: 0;\n",
       "}\n",
       "\n",
       "/* Serial-specific style estimator block */\n",
       "\n",
       "#sk-container-id-1 div.sk-serial {\n",
       "  display: flex;\n",
       "  flex-direction: column;\n",
       "  align-items: center;\n",
       "  background-color: var(--sklearn-color-background);\n",
       "  padding-right: 1em;\n",
       "  padding-left: 1em;\n",
       "}\n",
       "\n",
       "\n",
       "/* Toggleable style: style used for estimator/Pipeline/ColumnTransformer box that is\n",
       "clickable and can be expanded/collapsed.\n",
       "- Pipeline and ColumnTransformer use this feature and define the default style\n",
       "- Estimators will overwrite some part of the style using the `sk-estimator` class\n",
       "*/\n",
       "\n",
       "/* Pipeline and ColumnTransformer style (default) */\n",
       "\n",
       "#sk-container-id-1 div.sk-toggleable {\n",
       "  /* Default theme specific background. It is overwritten whether we have a\n",
       "  specific estimator or a Pipeline/ColumnTransformer */\n",
       "  background-color: var(--sklearn-color-background);\n",
       "}\n",
       "\n",
       "/* Toggleable label */\n",
       "#sk-container-id-1 label.sk-toggleable__label {\n",
       "  cursor: pointer;\n",
       "  display: block;\n",
       "  width: 100%;\n",
       "  margin-bottom: 0;\n",
       "  padding: 0.5em;\n",
       "  box-sizing: border-box;\n",
       "  text-align: center;\n",
       "}\n",
       "\n",
       "#sk-container-id-1 label.sk-toggleable__label-arrow:before {\n",
       "  /* Arrow on the left of the label */\n",
       "  content: \"▸\";\n",
       "  float: left;\n",
       "  margin-right: 0.25em;\n",
       "  color: var(--sklearn-color-icon);\n",
       "}\n",
       "\n",
       "#sk-container-id-1 label.sk-toggleable__label-arrow:hover:before {\n",
       "  color: var(--sklearn-color-text);\n",
       "}\n",
       "\n",
       "/* Toggleable content - dropdown */\n",
       "\n",
       "#sk-container-id-1 div.sk-toggleable__content {\n",
       "  max-height: 0;\n",
       "  max-width: 0;\n",
       "  overflow: hidden;\n",
       "  text-align: left;\n",
       "  /* unfitted */\n",
       "  background-color: var(--sklearn-color-unfitted-level-0);\n",
       "}\n",
       "\n",
       "#sk-container-id-1 div.sk-toggleable__content.fitted {\n",
       "  /* fitted */\n",
       "  background-color: var(--sklearn-color-fitted-level-0);\n",
       "}\n",
       "\n",
       "#sk-container-id-1 div.sk-toggleable__content pre {\n",
       "  margin: 0.2em;\n",
       "  border-radius: 0.25em;\n",
       "  color: var(--sklearn-color-text);\n",
       "  /* unfitted */\n",
       "  background-color: var(--sklearn-color-unfitted-level-0);\n",
       "}\n",
       "\n",
       "#sk-container-id-1 div.sk-toggleable__content.fitted pre {\n",
       "  /* unfitted */\n",
       "  background-color: var(--sklearn-color-fitted-level-0);\n",
       "}\n",
       "\n",
       "#sk-container-id-1 input.sk-toggleable__control:checked~div.sk-toggleable__content {\n",
       "  /* Expand drop-down */\n",
       "  max-height: 200px;\n",
       "  max-width: 100%;\n",
       "  overflow: auto;\n",
       "}\n",
       "\n",
       "#sk-container-id-1 input.sk-toggleable__control:checked~label.sk-toggleable__label-arrow:before {\n",
       "  content: \"▾\";\n",
       "}\n",
       "\n",
       "/* Pipeline/ColumnTransformer-specific style */\n",
       "\n",
       "#sk-container-id-1 div.sk-label input.sk-toggleable__control:checked~label.sk-toggleable__label {\n",
       "  color: var(--sklearn-color-text);\n",
       "  background-color: var(--sklearn-color-unfitted-level-2);\n",
       "}\n",
       "\n",
       "#sk-container-id-1 div.sk-label.fitted input.sk-toggleable__control:checked~label.sk-toggleable__label {\n",
       "  background-color: var(--sklearn-color-fitted-level-2);\n",
       "}\n",
       "\n",
       "/* Estimator-specific style */\n",
       "\n",
       "/* Colorize estimator box */\n",
       "#sk-container-id-1 div.sk-estimator input.sk-toggleable__control:checked~label.sk-toggleable__label {\n",
       "  /* unfitted */\n",
       "  background-color: var(--sklearn-color-unfitted-level-2);\n",
       "}\n",
       "\n",
       "#sk-container-id-1 div.sk-estimator.fitted input.sk-toggleable__control:checked~label.sk-toggleable__label {\n",
       "  /* fitted */\n",
       "  background-color: var(--sklearn-color-fitted-level-2);\n",
       "}\n",
       "\n",
       "#sk-container-id-1 div.sk-label label.sk-toggleable__label,\n",
       "#sk-container-id-1 div.sk-label label {\n",
       "  /* The background is the default theme color */\n",
       "  color: var(--sklearn-color-text-on-default-background);\n",
       "}\n",
       "\n",
       "/* On hover, darken the color of the background */\n",
       "#sk-container-id-1 div.sk-label:hover label.sk-toggleable__label {\n",
       "  color: var(--sklearn-color-text);\n",
       "  background-color: var(--sklearn-color-unfitted-level-2);\n",
       "}\n",
       "\n",
       "/* Label box, darken color on hover, fitted */\n",
       "#sk-container-id-1 div.sk-label.fitted:hover label.sk-toggleable__label.fitted {\n",
       "  color: var(--sklearn-color-text);\n",
       "  background-color: var(--sklearn-color-fitted-level-2);\n",
       "}\n",
       "\n",
       "/* Estimator label */\n",
       "\n",
       "#sk-container-id-1 div.sk-label label {\n",
       "  font-family: monospace;\n",
       "  font-weight: bold;\n",
       "  display: inline-block;\n",
       "  line-height: 1.2em;\n",
       "}\n",
       "\n",
       "#sk-container-id-1 div.sk-label-container {\n",
       "  text-align: center;\n",
       "}\n",
       "\n",
       "/* Estimator-specific */\n",
       "#sk-container-id-1 div.sk-estimator {\n",
       "  font-family: monospace;\n",
       "  border: 1px dotted var(--sklearn-color-border-box);\n",
       "  border-radius: 0.25em;\n",
       "  box-sizing: border-box;\n",
       "  margin-bottom: 0.5em;\n",
       "  /* unfitted */\n",
       "  background-color: var(--sklearn-color-unfitted-level-0);\n",
       "}\n",
       "\n",
       "#sk-container-id-1 div.sk-estimator.fitted {\n",
       "  /* fitted */\n",
       "  background-color: var(--sklearn-color-fitted-level-0);\n",
       "}\n",
       "\n",
       "/* on hover */\n",
       "#sk-container-id-1 div.sk-estimator:hover {\n",
       "  /* unfitted */\n",
       "  background-color: var(--sklearn-color-unfitted-level-2);\n",
       "}\n",
       "\n",
       "#sk-container-id-1 div.sk-estimator.fitted:hover {\n",
       "  /* fitted */\n",
       "  background-color: var(--sklearn-color-fitted-level-2);\n",
       "}\n",
       "\n",
       "/* Specification for estimator info (e.g. \"i\" and \"?\") */\n",
       "\n",
       "/* Common style for \"i\" and \"?\" */\n",
       "\n",
       ".sk-estimator-doc-link,\n",
       "a:link.sk-estimator-doc-link,\n",
       "a:visited.sk-estimator-doc-link {\n",
       "  float: right;\n",
       "  font-size: smaller;\n",
       "  line-height: 1em;\n",
       "  font-family: monospace;\n",
       "  background-color: var(--sklearn-color-background);\n",
       "  border-radius: 1em;\n",
       "  height: 1em;\n",
       "  width: 1em;\n",
       "  text-decoration: none !important;\n",
       "  margin-left: 1ex;\n",
       "  /* unfitted */\n",
       "  border: var(--sklearn-color-unfitted-level-1) 1pt solid;\n",
       "  color: var(--sklearn-color-unfitted-level-1);\n",
       "}\n",
       "\n",
       ".sk-estimator-doc-link.fitted,\n",
       "a:link.sk-estimator-doc-link.fitted,\n",
       "a:visited.sk-estimator-doc-link.fitted {\n",
       "  /* fitted */\n",
       "  border: var(--sklearn-color-fitted-level-1) 1pt solid;\n",
       "  color: var(--sklearn-color-fitted-level-1);\n",
       "}\n",
       "\n",
       "/* On hover */\n",
       "div.sk-estimator:hover .sk-estimator-doc-link:hover,\n",
       ".sk-estimator-doc-link:hover,\n",
       "div.sk-label-container:hover .sk-estimator-doc-link:hover,\n",
       ".sk-estimator-doc-link:hover {\n",
       "  /* unfitted */\n",
       "  background-color: var(--sklearn-color-unfitted-level-3);\n",
       "  color: var(--sklearn-color-background);\n",
       "  text-decoration: none;\n",
       "}\n",
       "\n",
       "div.sk-estimator.fitted:hover .sk-estimator-doc-link.fitted:hover,\n",
       ".sk-estimator-doc-link.fitted:hover,\n",
       "div.sk-label-container:hover .sk-estimator-doc-link.fitted:hover,\n",
       ".sk-estimator-doc-link.fitted:hover {\n",
       "  /* fitted */\n",
       "  background-color: var(--sklearn-color-fitted-level-3);\n",
       "  color: var(--sklearn-color-background);\n",
       "  text-decoration: none;\n",
       "}\n",
       "\n",
       "/* Span, style for the box shown on hovering the info icon */\n",
       ".sk-estimator-doc-link span {\n",
       "  display: none;\n",
       "  z-index: 9999;\n",
       "  position: relative;\n",
       "  font-weight: normal;\n",
       "  right: .2ex;\n",
       "  padding: .5ex;\n",
       "  margin: .5ex;\n",
       "  width: min-content;\n",
       "  min-width: 20ex;\n",
       "  max-width: 50ex;\n",
       "  color: var(--sklearn-color-text);\n",
       "  box-shadow: 2pt 2pt 4pt #999;\n",
       "  /* unfitted */\n",
       "  background: var(--sklearn-color-unfitted-level-0);\n",
       "  border: .5pt solid var(--sklearn-color-unfitted-level-3);\n",
       "}\n",
       "\n",
       ".sk-estimator-doc-link.fitted span {\n",
       "  /* fitted */\n",
       "  background: var(--sklearn-color-fitted-level-0);\n",
       "  border: var(--sklearn-color-fitted-level-3);\n",
       "}\n",
       "\n",
       ".sk-estimator-doc-link:hover span {\n",
       "  display: block;\n",
       "}\n",
       "\n",
       "/* \"?\"-specific style due to the `<a>` HTML tag */\n",
       "\n",
       "#sk-container-id-1 a.estimator_doc_link {\n",
       "  float: right;\n",
       "  font-size: 1rem;\n",
       "  line-height: 1em;\n",
       "  font-family: monospace;\n",
       "  background-color: var(--sklearn-color-background);\n",
       "  border-radius: 1rem;\n",
       "  height: 1rem;\n",
       "  width: 1rem;\n",
       "  text-decoration: none;\n",
       "  /* unfitted */\n",
       "  color: var(--sklearn-color-unfitted-level-1);\n",
       "  border: var(--sklearn-color-unfitted-level-1) 1pt solid;\n",
       "}\n",
       "\n",
       "#sk-container-id-1 a.estimator_doc_link.fitted {\n",
       "  /* fitted */\n",
       "  border: var(--sklearn-color-fitted-level-1) 1pt solid;\n",
       "  color: var(--sklearn-color-fitted-level-1);\n",
       "}\n",
       "\n",
       "/* On hover */\n",
       "#sk-container-id-1 a.estimator_doc_link:hover {\n",
       "  /* unfitted */\n",
       "  background-color: var(--sklearn-color-unfitted-level-3);\n",
       "  color: var(--sklearn-color-background);\n",
       "  text-decoration: none;\n",
       "}\n",
       "\n",
       "#sk-container-id-1 a.estimator_doc_link.fitted:hover {\n",
       "  /* fitted */\n",
       "  background-color: var(--sklearn-color-fitted-level-3);\n",
       "}\n",
       "</style><div id=\"sk-container-id-1\" class=\"sk-top-container\"><div class=\"sk-text-repr-fallback\"><pre>KNeighborsClassifier(n_neighbors=1)</pre><b>In a Jupyter environment, please rerun this cell to show the HTML representation or trust the notebook. <br />On GitHub, the HTML representation is unable to render, please try loading this page with nbviewer.org.</b></div><div class=\"sk-container\" hidden><div class=\"sk-item\"><div class=\"sk-estimator fitted sk-toggleable\"><input class=\"sk-toggleable__control sk-hidden--visually\" id=\"sk-estimator-id-1\" type=\"checkbox\" checked><label for=\"sk-estimator-id-1\" class=\"sk-toggleable__label fitted sk-toggleable__label-arrow fitted\">&nbsp;&nbsp;KNeighborsClassifier<a class=\"sk-estimator-doc-link fitted\" rel=\"noreferrer\" target=\"_blank\" href=\"https://scikit-learn.org/1.5/modules/generated/sklearn.neighbors.KNeighborsClassifier.html\">?<span>Documentation for KNeighborsClassifier</span></a><span class=\"sk-estimator-doc-link fitted\">i<span>Fitted</span></span></label><div class=\"sk-toggleable__content fitted\"><pre>KNeighborsClassifier(n_neighbors=1)</pre></div> </div></div></div></div>"
      ],
      "text/plain": [
       "KNeighborsClassifier(n_neighbors=1)"
      ]
     },
     "execution_count": 14,
     "metadata": {},
     "output_type": "execute_result"
    }
   ],
   "source": [
    "knn.fit(X_train, y_train)"
   ]
  },
  {
   "cell_type": "code",
   "execution_count": 15,
   "id": "1c4bd72e-a65b-44e7-b0e5-ee16bdc16b35",
   "metadata": {
    "tags": []
   },
   "outputs": [
    {
     "name": "stdout",
     "output_type": "stream",
     "text": [
      "X_new.shape: (1, 4)\n"
     ]
    }
   ],
   "source": [
    "X_new = np.array([[5, 2.9, 1, 0.2]])\n",
    "print(\"X_new.shape: {}\".format(X_new.shape))"
   ]
  },
  {
   "cell_type": "code",
   "execution_count": 16,
   "id": "9c54d41c-7fcc-4f81-839a-c48410fabe08",
   "metadata": {
    "tags": []
   },
   "outputs": [
    {
     "name": "stdout",
     "output_type": "stream",
     "text": [
      "Prediction: [0]\n",
      "Predicted target name: ['setosa']\n"
     ]
    }
   ],
   "source": [
    "prediction = knn.predict(X_new)\n",
    "print(\"Prediction: {}\".format(prediction))\n",
    "print(\"Predicted target name: {}\".format(iris_dataset['target_names'][prediction]))"
   ]
  },
  {
   "cell_type": "code",
   "execution_count": 17,
   "id": "662e1d97-da58-48cc-9bb5-24727db6abde",
   "metadata": {
    "tags": []
   },
   "outputs": [
    {
     "name": "stdout",
     "output_type": "stream",
     "text": [
      "Test set predictions:\n",
      " [2 1 0 2 0 2 0 1 1 1 2 1 1 1 1 0 1 1 0 0 2 1 0 0 2 0 0 1 1 0 2 1 0 2 2 1 0\n",
      " 2]\n"
     ]
    }
   ],
   "source": [
    "y_pred = knn.predict(X_test)\n",
    "print(\"Test set predictions:\\n {}\".format(y_pred))"
   ]
  },
  {
   "cell_type": "code",
   "execution_count": 18,
   "id": "9e57cb33-9d0d-461d-a53c-03b4d0a43105",
   "metadata": {
    "tags": []
   },
   "outputs": [
    {
     "name": "stdout",
     "output_type": "stream",
     "text": [
      "Test set score: 0.97\n"
     ]
    }
   ],
   "source": [
    "print(\"Test set score: {:.2f}\".format(np.mean(y_pred == y_test)))"
   ]
  },
  {
   "cell_type": "code",
   "execution_count": 19,
   "id": "9652014f-57ba-4769-b642-936b74db1219",
   "metadata": {
    "tags": []
   },
   "outputs": [
    {
     "name": "stdout",
     "output_type": "stream",
     "text": [
      "Test set score: 0.97\n"
     ]
    }
   ],
   "source": [
    "print(\"Test set score: {:.2f}\".format(knn.score(X_test, y_test)))"
   ]
  },
  {
   "cell_type": "code",
   "execution_count": 20,
   "id": "4b0c0e90-2115-411d-a1d2-b89c07043334",
   "metadata": {
    "tags": []
   },
   "outputs": [
    {
     "name": "stdout",
     "output_type": "stream",
     "text": [
      "Test set score: 0.97\n"
     ]
    }
   ],
   "source": [
    "# summary of the code needed for the whole training and evaluation procedure\n",
    "\n",
    "X_train, X_test, y_train, y_test = train_test_split(\n",
    "iris_dataset['data'], iris_dataset['target'], random_state=0) # random_state is for the seeding\n",
    "knn = KNeighborsClassifier(n_neighbors=1)\n",
    "knn.fit(X_train, y_train)\n",
    "print(\"Test set score: {:.2f}\".format(knn.score(X_test, y_test)))"
   ]
  },
  {
   "cell_type": "markdown",
   "id": "bb963bd8-fa8f-400a-922f-b7fbadca10ca",
   "metadata": {},
   "source": [
    "This snippet contains the core code for applying any machine learning algorithm\n",
    "using scikit-learn. The # fit, # predict, and # score methods are the common inter‐\n",
    "face to supervised models in scikit-learn."
   ]
  },
  {
   "cell_type": "markdown",
   "id": "abf72f5f-8b50-40d7-aefa-725e706eb03d",
   "metadata": {
    "tags": []
   },
   "source": [
    "# Overall method\n",
    "# 1. import the necessary modules\n",
    "# 2. load the data\n",
    "# 3. split the train and test data\n",
    "# 4. create the model and fit the train data\n",
    "# 5. predict the test data"
   ]
  },
  {
   "cell_type": "markdown",
   "id": "4412401c-870f-4206-9e60-6f2b48f96ac2",
   "metadata": {},
   "source": [
    "The five main steps that are\n",
    "involved in training a supervised machine learning algorithm can be summarized as follows:\n",
    "1. Selecting features and collecting labeled training examples\n",
    "2. Choosing a performance metric\n",
    "3. Choosing a learning algorithm and training a model\n",
    "4. Evaluating the performance of the model\n",
    "5. Changing the settings of the algorithm and tuning the model."
   ]
  },
  {
   "cell_type": "markdown",
   "id": "34a21803-45a0-4fb5-bbeb-7f64c35914a4",
   "metadata": {},
   "source": [
    "# Using a Perceptron algorithm"
   ]
  },
  {
   "cell_type": "code",
   "execution_count": 50,
   "id": "9d796fa5-a141-4967-a72d-2a33c85b953d",
   "metadata": {
    "tags": []
   },
   "outputs": [
    {
     "name": "stdout",
     "output_type": "stream",
     "text": [
      "iris dataset keys: \n",
      "dict_keys(['data', 'target', 'frame', 'target_names', 'DESCR', 'feature_names', 'filename', 'data_module'])\n"
     ]
    }
   ],
   "source": [
    "import numpy as np\n",
    "import matplotlib.pyplot as plt\n",
    "import pandas as pd\n",
    "from sklearn.datasets import load_iris\n",
    "import tkinter\n",
    "import matplotlib\n",
    "matplotlib.use('TkAgg')\n",
    "\n",
    "iris = load_iris()\n",
    "X = iris.data[:, [2,3]] # samples, feature matrix: rows(sample) x columns(features)\n",
    "y = iris.target # class labels as a vector array\n",
    "\n",
    "print('iris dataset keys: \\n{}'.format(iris.keys()))"
   ]
  },
  {
   "cell_type": "code",
   "execution_count": 8,
   "id": "30449d29-fe98-40d4-aed5-d3e8ad00fb81",
   "metadata": {
    "tags": []
   },
   "outputs": [
    {
     "name": "stdout",
     "output_type": "stream",
     "text": [
      "Class labels: [0 1 2]\n"
     ]
    }
   ],
   "source": [
    "print('Class labels: {}'.format(np.unique(y)))"
   ]
  },
  {
   "cell_type": "code",
   "execution_count": 51,
   "id": "6aad671c-715e-4be5-a866-05f5322cdf05",
   "metadata": {
    "tags": []
   },
   "outputs": [],
   "source": [
    "from sklearn.model_selection import train_test_split\n",
    "X_train, X_test, y_train, y_test = train_test_split(X, y, test_size=0.3, random_state=1, stratify=y)"
   ]
  },
  {
   "cell_type": "code",
   "execution_count": 52,
   "id": "947253ec-d7f4-4000-bdca-8977f33bcb7d",
   "metadata": {
    "tags": []
   },
   "outputs": [],
   "source": [
    "# scaling pipeline, a preprocessing procedure\n",
    "from sklearn.preprocessing import StandardScaler\n",
    "sc = StandardScaler()\n",
    "sc.fit(X_train)\n",
    "X_train_std = sc.transform(X_train)\n",
    "X_test_std = sc.transform(X_test)"
   ]
  },
  {
   "cell_type": "code",
   "execution_count": 53,
   "id": "83335265-58ba-4e1a-9d4d-1ce3e1fc1a5e",
   "metadata": {
    "tags": []
   },
   "outputs": [
    {
     "data": {
      "text/html": [
       "<style>#sk-container-id-1 {color: black;}#sk-container-id-1 pre{padding: 0;}#sk-container-id-1 div.sk-toggleable {background-color: white;}#sk-container-id-1 label.sk-toggleable__label {cursor: pointer;display: block;width: 100%;margin-bottom: 0;padding: 0.3em;box-sizing: border-box;text-align: center;}#sk-container-id-1 label.sk-toggleable__label-arrow:before {content: \"▸\";float: left;margin-right: 0.25em;color: #696969;}#sk-container-id-1 label.sk-toggleable__label-arrow:hover:before {color: black;}#sk-container-id-1 div.sk-estimator:hover label.sk-toggleable__label-arrow:before {color: black;}#sk-container-id-1 div.sk-toggleable__content {max-height: 0;max-width: 0;overflow: hidden;text-align: left;background-color: #f0f8ff;}#sk-container-id-1 div.sk-toggleable__content pre {margin: 0.2em;color: black;border-radius: 0.25em;background-color: #f0f8ff;}#sk-container-id-1 input.sk-toggleable__control:checked~div.sk-toggleable__content {max-height: 200px;max-width: 100%;overflow: auto;}#sk-container-id-1 input.sk-toggleable__control:checked~label.sk-toggleable__label-arrow:before {content: \"▾\";}#sk-container-id-1 div.sk-estimator input.sk-toggleable__control:checked~label.sk-toggleable__label {background-color: #d4ebff;}#sk-container-id-1 div.sk-label input.sk-toggleable__control:checked~label.sk-toggleable__label {background-color: #d4ebff;}#sk-container-id-1 input.sk-hidden--visually {border: 0;clip: rect(1px 1px 1px 1px);clip: rect(1px, 1px, 1px, 1px);height: 1px;margin: -1px;overflow: hidden;padding: 0;position: absolute;width: 1px;}#sk-container-id-1 div.sk-estimator {font-family: monospace;background-color: #f0f8ff;border: 1px dotted black;border-radius: 0.25em;box-sizing: border-box;margin-bottom: 0.5em;}#sk-container-id-1 div.sk-estimator:hover {background-color: #d4ebff;}#sk-container-id-1 div.sk-parallel-item::after {content: \"\";width: 100%;border-bottom: 1px solid gray;flex-grow: 1;}#sk-container-id-1 div.sk-label:hover label.sk-toggleable__label {background-color: #d4ebff;}#sk-container-id-1 div.sk-serial::before {content: \"\";position: absolute;border-left: 1px solid gray;box-sizing: border-box;top: 0;bottom: 0;left: 50%;z-index: 0;}#sk-container-id-1 div.sk-serial {display: flex;flex-direction: column;align-items: center;background-color: white;padding-right: 0.2em;padding-left: 0.2em;position: relative;}#sk-container-id-1 div.sk-item {position: relative;z-index: 1;}#sk-container-id-1 div.sk-parallel {display: flex;align-items: stretch;justify-content: center;background-color: white;position: relative;}#sk-container-id-1 div.sk-item::before, #sk-container-id-1 div.sk-parallel-item::before {content: \"\";position: absolute;border-left: 1px solid gray;box-sizing: border-box;top: 0;bottom: 0;left: 50%;z-index: -1;}#sk-container-id-1 div.sk-parallel-item {display: flex;flex-direction: column;z-index: 1;position: relative;background-color: white;}#sk-container-id-1 div.sk-parallel-item:first-child::after {align-self: flex-end;width: 50%;}#sk-container-id-1 div.sk-parallel-item:last-child::after {align-self: flex-start;width: 50%;}#sk-container-id-1 div.sk-parallel-item:only-child::after {width: 0;}#sk-container-id-1 div.sk-dashed-wrapped {border: 1px dashed gray;margin: 0 0.4em 0.5em 0.4em;box-sizing: border-box;padding-bottom: 0.4em;background-color: white;}#sk-container-id-1 div.sk-label label {font-family: monospace;font-weight: bold;display: inline-block;line-height: 1.2em;}#sk-container-id-1 div.sk-label-container {text-align: center;}#sk-container-id-1 div.sk-container {/* jupyter's `normalize.less` sets `[hidden] { display: none; }` but bootstrap.min.css set `[hidden] { display: none !important; }` so we also need the `!important` here to be able to override the default hidden behavior on the sphinx rendered scikit-learn.org. See: https://github.com/scikit-learn/scikit-learn/issues/21755 */display: inline-block !important;position: relative;}#sk-container-id-1 div.sk-text-repr-fallback {display: none;}</style><div id=\"sk-container-id-1\" class=\"sk-top-container\"><div class=\"sk-text-repr-fallback\"><pre>Perceptron(eta0=0.1, random_state=1)</pre><b>In a Jupyter environment, please rerun this cell to show the HTML representation or trust the notebook. <br />On GitHub, the HTML representation is unable to render, please try loading this page with nbviewer.org.</b></div><div class=\"sk-container\" hidden><div class=\"sk-item\"><div class=\"sk-estimator sk-toggleable\"><input class=\"sk-toggleable__control sk-hidden--visually\" id=\"sk-estimator-id-1\" type=\"checkbox\" checked><label for=\"sk-estimator-id-1\" class=\"sk-toggleable__label sk-toggleable__label-arrow\">Perceptron</label><div class=\"sk-toggleable__content\"><pre>Perceptron(eta0=0.1, random_state=1)</pre></div></div></div></div></div>"
      ],
      "text/plain": [
       "Perceptron(eta0=0.1, random_state=1)"
      ]
     },
     "execution_count": 53,
     "metadata": {},
     "output_type": "execute_result"
    }
   ],
   "source": [
    "from sklearn.linear_model import Perceptron\n",
    "ppn = Perceptron(eta0=0.1, random_state=1)\n",
    "ppn.fit(X_train_std, y_train)"
   ]
  },
  {
   "cell_type": "code",
   "execution_count": 12,
   "id": "60791f5b-3419-46e6-bf66-815badd9e325",
   "metadata": {
    "tags": []
   },
   "outputs": [
    {
     "name": "stdout",
     "output_type": "stream",
     "text": [
      "score:  0.9777777777777777\n"
     ]
    }
   ],
   "source": [
    "y_pred = ppn.predict(X_test_std)\n",
    "print('score: ', ppn.score(X_test_std, y_test))"
   ]
  },
  {
   "cell_type": "code",
   "execution_count": 16,
   "id": "690448a7-e23b-42ca-ae4b-cb945c260494",
   "metadata": {
    "tags": []
   },
   "outputs": [
    {
     "name": "stdout",
     "output_type": "stream",
     "text": [
      "breast cancer data keys: \n",
      " dict_keys(['data', 'target', 'frame', 'target_names', 'DESCR', 'feature_names', 'filename', 'data_module'])\n"
     ]
    }
   ],
   "source": [
    "from sklearn.datasets import load_breast_cancer\n",
    "breast_cancer = load_breast_cancer()\n",
    "print('breast cancer data keys: \\n', breast_cancer.keys())"
   ]
  },
  {
   "cell_type": "code",
   "execution_count": 19,
   "id": "b7edca67-332e-4d05-8037-b3852c0cfdd9",
   "metadata": {
    "tags": []
   },
   "outputs": [
    {
     "name": "stdout",
     "output_type": "stream",
     "text": [
      "breast cancer data shape: (569, 30)\n"
     ]
    }
   ],
   "source": [
    "print('breast cancer data shape: {}'.format(breast_cancer['data'].shape))"
   ]
  },
  {
   "cell_type": "code",
   "execution_count": 21,
   "id": "78976554-7489-4d51-865b-66e573f59bec",
   "metadata": {
    "tags": []
   },
   "outputs": [
    {
     "name": "stdout",
     "output_type": "stream",
     "text": [
      "breast cancer data target_names: \n",
      " ['malignant' 'benign']\n"
     ]
    }
   ],
   "source": [
    "print('breast cancer data target_names: \\n', breast_cancer['target_names'])"
   ]
  },
  {
   "cell_type": "code",
   "execution_count": 22,
   "id": "f756c078-eee1-49c5-a6f4-9a078e05504d",
   "metadata": {
    "tags": []
   },
   "outputs": [
    {
     "name": "stdout",
     "output_type": "stream",
     "text": [
      "breast cancer feature_names: \n",
      " ['mean radius' 'mean texture' 'mean perimeter' 'mean area'\n",
      " 'mean smoothness' 'mean compactness' 'mean concavity'\n",
      " 'mean concave points' 'mean symmetry' 'mean fractal dimension'\n",
      " 'radius error' 'texture error' 'perimeter error' 'area error'\n",
      " 'smoothness error' 'compactness error' 'concavity error'\n",
      " 'concave points error' 'symmetry error' 'fractal dimension error'\n",
      " 'worst radius' 'worst texture' 'worst perimeter' 'worst area'\n",
      " 'worst smoothness' 'worst compactness' 'worst concavity'\n",
      " 'worst concave points' 'worst symmetry' 'worst fractal dimension']\n"
     ]
    }
   ],
   "source": [
    "print('breast cancer feature_names: \\n', breast_cancer['feature_names'])"
   ]
  },
  {
   "cell_type": "code",
   "execution_count": 2,
   "id": "4e3b8c13-caea-4b01-887a-81a6c502691b",
   "metadata": {
    "tags": []
   },
   "outputs": [
    {
     "name": "stdout",
     "output_type": "stream",
     "text": [
      "wine keys: \n",
      " dict_keys(['data', 'target', 'frame', 'target_names', 'DESCR', 'feature_names'])\n"
     ]
    }
   ],
   "source": [
    "from sklearn.datasets import load_wine\n",
    "wine = load_wine()\n",
    "print('wine keys: \\n', wine.keys())\n"
   ]
  },
  {
   "cell_type": "code",
   "execution_count": 29,
   "id": "05c949ee-fccf-467c-81fa-9b064a204307",
   "metadata": {
    "tags": []
   },
   "outputs": [
    {
     "name": "stdout",
     "output_type": "stream",
     "text": [
      "wine data features names: \n",
      " ['alcohol', 'malic_acid', 'ash', 'alcalinity_of_ash', 'magnesium', 'total_phenols', 'flavanoids', 'nonflavanoid_phenols', 'proanthocyanins', 'color_intensity', 'hue', 'od280/od315_of_diluted_wines', 'proline']\n"
     ]
    }
   ],
   "source": [
    "print('wine data features names: \\n',wine['feature_names'])"
   ]
  },
  {
   "cell_type": "code",
   "execution_count": 3,
   "id": "f7c38e76-f603-4698-9224-9695ea2496dd",
   "metadata": {
    "tags": []
   },
   "outputs": [
    {
     "data": {
      "text/html": [
       "<div>\n",
       "<style scoped>\n",
       "    .dataframe tbody tr th:only-of-type {\n",
       "        vertical-align: middle;\n",
       "    }\n",
       "\n",
       "    .dataframe tbody tr th {\n",
       "        vertical-align: top;\n",
       "    }\n",
       "\n",
       "    .dataframe thead th {\n",
       "        text-align: right;\n",
       "    }\n",
       "</style>\n",
       "<table border=\"1\" class=\"dataframe\">\n",
       "  <thead>\n",
       "    <tr style=\"text-align: right;\">\n",
       "      <th></th>\n",
       "      <th>alcohol</th>\n",
       "      <th>malic_acid</th>\n",
       "      <th>ash</th>\n",
       "      <th>alcalinity_of_ash</th>\n",
       "      <th>magnesium</th>\n",
       "      <th>total_phenols</th>\n",
       "      <th>flavanoids</th>\n",
       "      <th>nonflavanoid_phenols</th>\n",
       "      <th>proanthocyanins</th>\n",
       "      <th>color_intensity</th>\n",
       "      <th>hue</th>\n",
       "      <th>od280/od315_of_diluted_wines</th>\n",
       "      <th>proline</th>\n",
       "    </tr>\n",
       "  </thead>\n",
       "  <tbody>\n",
       "    <tr>\n",
       "      <th>0</th>\n",
       "      <td>14.23</td>\n",
       "      <td>1.71</td>\n",
       "      <td>2.43</td>\n",
       "      <td>15.6</td>\n",
       "      <td>127.0</td>\n",
       "      <td>2.80</td>\n",
       "      <td>3.06</td>\n",
       "      <td>0.28</td>\n",
       "      <td>2.29</td>\n",
       "      <td>5.64</td>\n",
       "      <td>1.04</td>\n",
       "      <td>3.92</td>\n",
       "      <td>1065.0</td>\n",
       "    </tr>\n",
       "    <tr>\n",
       "      <th>1</th>\n",
       "      <td>13.20</td>\n",
       "      <td>1.78</td>\n",
       "      <td>2.14</td>\n",
       "      <td>11.2</td>\n",
       "      <td>100.0</td>\n",
       "      <td>2.65</td>\n",
       "      <td>2.76</td>\n",
       "      <td>0.26</td>\n",
       "      <td>1.28</td>\n",
       "      <td>4.38</td>\n",
       "      <td>1.05</td>\n",
       "      <td>3.40</td>\n",
       "      <td>1050.0</td>\n",
       "    </tr>\n",
       "    <tr>\n",
       "      <th>2</th>\n",
       "      <td>13.16</td>\n",
       "      <td>2.36</td>\n",
       "      <td>2.67</td>\n",
       "      <td>18.6</td>\n",
       "      <td>101.0</td>\n",
       "      <td>2.80</td>\n",
       "      <td>3.24</td>\n",
       "      <td>0.30</td>\n",
       "      <td>2.81</td>\n",
       "      <td>5.68</td>\n",
       "      <td>1.03</td>\n",
       "      <td>3.17</td>\n",
       "      <td>1185.0</td>\n",
       "    </tr>\n",
       "    <tr>\n",
       "      <th>3</th>\n",
       "      <td>14.37</td>\n",
       "      <td>1.95</td>\n",
       "      <td>2.50</td>\n",
       "      <td>16.8</td>\n",
       "      <td>113.0</td>\n",
       "      <td>3.85</td>\n",
       "      <td>3.49</td>\n",
       "      <td>0.24</td>\n",
       "      <td>2.18</td>\n",
       "      <td>7.80</td>\n",
       "      <td>0.86</td>\n",
       "      <td>3.45</td>\n",
       "      <td>1480.0</td>\n",
       "    </tr>\n",
       "    <tr>\n",
       "      <th>4</th>\n",
       "      <td>13.24</td>\n",
       "      <td>2.59</td>\n",
       "      <td>2.87</td>\n",
       "      <td>21.0</td>\n",
       "      <td>118.0</td>\n",
       "      <td>2.80</td>\n",
       "      <td>2.69</td>\n",
       "      <td>0.39</td>\n",
       "      <td>1.82</td>\n",
       "      <td>4.32</td>\n",
       "      <td>1.04</td>\n",
       "      <td>2.93</td>\n",
       "      <td>735.0</td>\n",
       "    </tr>\n",
       "    <tr>\n",
       "      <th>5</th>\n",
       "      <td>14.20</td>\n",
       "      <td>1.76</td>\n",
       "      <td>2.45</td>\n",
       "      <td>15.2</td>\n",
       "      <td>112.0</td>\n",
       "      <td>3.27</td>\n",
       "      <td>3.39</td>\n",
       "      <td>0.34</td>\n",
       "      <td>1.97</td>\n",
       "      <td>6.75</td>\n",
       "      <td>1.05</td>\n",
       "      <td>2.85</td>\n",
       "      <td>1450.0</td>\n",
       "    </tr>\n",
       "    <tr>\n",
       "      <th>6</th>\n",
       "      <td>14.39</td>\n",
       "      <td>1.87</td>\n",
       "      <td>2.45</td>\n",
       "      <td>14.6</td>\n",
       "      <td>96.0</td>\n",
       "      <td>2.50</td>\n",
       "      <td>2.52</td>\n",
       "      <td>0.30</td>\n",
       "      <td>1.98</td>\n",
       "      <td>5.25</td>\n",
       "      <td>1.02</td>\n",
       "      <td>3.58</td>\n",
       "      <td>1290.0</td>\n",
       "    </tr>\n",
       "    <tr>\n",
       "      <th>7</th>\n",
       "      <td>14.06</td>\n",
       "      <td>2.15</td>\n",
       "      <td>2.61</td>\n",
       "      <td>17.6</td>\n",
       "      <td>121.0</td>\n",
       "      <td>2.60</td>\n",
       "      <td>2.51</td>\n",
       "      <td>0.31</td>\n",
       "      <td>1.25</td>\n",
       "      <td>5.05</td>\n",
       "      <td>1.06</td>\n",
       "      <td>3.58</td>\n",
       "      <td>1295.0</td>\n",
       "    </tr>\n",
       "    <tr>\n",
       "      <th>8</th>\n",
       "      <td>14.83</td>\n",
       "      <td>1.64</td>\n",
       "      <td>2.17</td>\n",
       "      <td>14.0</td>\n",
       "      <td>97.0</td>\n",
       "      <td>2.80</td>\n",
       "      <td>2.98</td>\n",
       "      <td>0.29</td>\n",
       "      <td>1.98</td>\n",
       "      <td>5.20</td>\n",
       "      <td>1.08</td>\n",
       "      <td>2.85</td>\n",
       "      <td>1045.0</td>\n",
       "    </tr>\n",
       "    <tr>\n",
       "      <th>9</th>\n",
       "      <td>13.86</td>\n",
       "      <td>1.35</td>\n",
       "      <td>2.27</td>\n",
       "      <td>16.0</td>\n",
       "      <td>98.0</td>\n",
       "      <td>2.98</td>\n",
       "      <td>3.15</td>\n",
       "      <td>0.22</td>\n",
       "      <td>1.85</td>\n",
       "      <td>7.22</td>\n",
       "      <td>1.01</td>\n",
       "      <td>3.55</td>\n",
       "      <td>1045.0</td>\n",
       "    </tr>\n",
       "  </tbody>\n",
       "</table>\n",
       "</div>"
      ],
      "text/plain": [
       "   alcohol  malic_acid   ash  alcalinity_of_ash  magnesium  total_phenols  \\\n",
       "0    14.23        1.71  2.43               15.6      127.0           2.80   \n",
       "1    13.20        1.78  2.14               11.2      100.0           2.65   \n",
       "2    13.16        2.36  2.67               18.6      101.0           2.80   \n",
       "3    14.37        1.95  2.50               16.8      113.0           3.85   \n",
       "4    13.24        2.59  2.87               21.0      118.0           2.80   \n",
       "5    14.20        1.76  2.45               15.2      112.0           3.27   \n",
       "6    14.39        1.87  2.45               14.6       96.0           2.50   \n",
       "7    14.06        2.15  2.61               17.6      121.0           2.60   \n",
       "8    14.83        1.64  2.17               14.0       97.0           2.80   \n",
       "9    13.86        1.35  2.27               16.0       98.0           2.98   \n",
       "\n",
       "   flavanoids  nonflavanoid_phenols  proanthocyanins  color_intensity   hue  \\\n",
       "0        3.06                  0.28             2.29             5.64  1.04   \n",
       "1        2.76                  0.26             1.28             4.38  1.05   \n",
       "2        3.24                  0.30             2.81             5.68  1.03   \n",
       "3        3.49                  0.24             2.18             7.80  0.86   \n",
       "4        2.69                  0.39             1.82             4.32  1.04   \n",
       "5        3.39                  0.34             1.97             6.75  1.05   \n",
       "6        2.52                  0.30             1.98             5.25  1.02   \n",
       "7        2.51                  0.31             1.25             5.05  1.06   \n",
       "8        2.98                  0.29             1.98             5.20  1.08   \n",
       "9        3.15                  0.22             1.85             7.22  1.01   \n",
       "\n",
       "   od280/od315_of_diluted_wines  proline  \n",
       "0                          3.92   1065.0  \n",
       "1                          3.40   1050.0  \n",
       "2                          3.17   1185.0  \n",
       "3                          3.45   1480.0  \n",
       "4                          2.93    735.0  \n",
       "5                          2.85   1450.0  \n",
       "6                          3.58   1290.0  \n",
       "7                          3.58   1295.0  \n",
       "8                          2.85   1045.0  \n",
       "9                          3.55   1045.0  "
      ]
     },
     "metadata": {},
     "output_type": "display_data"
    }
   ],
   "source": [
    "import pandas as pd\n",
    "\n",
    "data_wine = pd.DataFrame(wine['data'][:10], columns=wine['feature_names'])\n",
    "display(data_wine)\n",
    "#data_wine.head()"
   ]
  },
  {
   "cell_type": "code",
   "execution_count": 10,
   "id": "a0e3b0d9-c7a0-49ad-9882-57c3797c6e85",
   "metadata": {
    "tags": []
   },
   "outputs": [
    {
     "name": "stdout",
     "output_type": "stream",
     "text": [
      "wine data target names: \n",
      " ['class_0' 'class_1' 'class_2']\n"
     ]
    }
   ],
   "source": [
    "print('wine data target names: \\n', wine['target_names'])"
   ]
  },
  {
   "cell_type": "code",
   "execution_count": 11,
   "id": "fef3f2ea-f704-4236-94d7-8ce7036f40f3",
   "metadata": {
    "tags": []
   },
   "outputs": [
    {
     "name": "stdout",
     "output_type": "stream",
     "text": [
      "target: \n",
      " [0 0 0 0 0 0 0 0 0 0 0 0 0 0 0 0 0 0 0 0 0 0 0 0 0 0 0 0 0 0 0 0 0 0 0 0 0\n",
      " 0 0 0 0 0 0 0 0 0 0 0 0 0 0 0 0 0 0 0 0 0 0 1 1 1 1 1 1 1 1 1 1 1 1 1 1 1\n",
      " 1 1 1 1 1 1 1 1 1 1 1 1 1 1 1 1 1 1 1 1 1 1 1 1 1 1 1 1 1 1 1 1 1 1 1 1 1\n",
      " 1 1 1 1 1 1 1 1 1 1 1 1 1 1 1 1 1 1 1 2 2 2 2 2 2 2 2 2 2 2 2 2 2 2 2 2 2\n",
      " 2 2 2 2 2 2 2 2 2 2 2 2 2 2 2 2 2 2 2 2 2 2 2 2 2 2 2 2 2 2]\n"
     ]
    }
   ],
   "source": [
    "print('target: \\n', wine['target'])"
   ]
  },
  {
   "cell_type": "raw",
   "id": "c875074b-cc01-4e87-896f-221853d68822",
   "metadata": {
    "tags": []
   },
   "source": [
    "import numpy as np\n",
    "import matplotlib.pyplot as plt\n",
    "\n",
    "from sklearn.model_selection import train_test_split\n",
    "X_train, X_test, y_train, y_test = train_test_split(wine['data'],\n",
    "                                                    wine['target'],\n",
    "                                                    random_state=1, stratify=wine['target'])\n",
    "train_accuracy = []\n",
    "test_accuracy = []\n",
    "N_neighbors = range(1,11)\n",
    "\n",
    "from sklearn.neighbors import KNeighborsClassifier\n",
    "for n in range(1,11):\n",
    "    knn = KNeighborsClassifier(n_neighbors=n)\n",
    "    knn.fit(X_train,y_train)\n",
    "    y_predict = knn.predict(X_test)\n",
    "    #print('train accuracy score for {} n_neighbors: \\n{:.3f}'.format(n, knn.score(X_train, y_train)))\n",
    "    #print('test accuracy score for {} n_neighbors: \\n{:.3f}\\n'.format(n,knn.score(X_test, y_test)))\n",
    "    train_accuracy.append(knn.score(X_train, y_train))\n",
    "    test_accuracy.append(knn.score(X_test, y_test))\n",
    "\n",
    "plt.plot(N_neighbors, train_accuracy, label='train_accuracy', color='red', linewidth=0.7)\n",
    "plt.plot(N_neighbors, test_accuracy, label='test_accuracy', color='green', linewidth=0.7)\n",
    "plt.legend()\n",
    "plt.xticks(np.arange(1,11))\n",
    "plt.yticks(np.arange(.60,1.02,0.02))\n",
    "plt.grid()\n",
    "plt.xlabel('n_neighbours')\n",
    "plt.ylabel('Accuracy')\n",
    "plt.show()\n",
    "    \n",
    "from sklearn.linear_model import LinearRegression\n",
    "lr = LinearRegression().fit(X_train, y_train)\n",
    "y_pred = lr.predict(X_test)\n",
    "print('linear regression train accuracy score: \\n{:.3f}'.format(lr.score(X_train, y_train)))\n",
    "print('linear regression test accuracy score: \\n{:.3f}\\n'.format(lr.score(X_test, y_test)))\n",
    "\n",
    "from sklearn.linear_model import LogisticRegression\n",
    "Lr = LogisticRegression(C=100.0,max_iter=10000).fit(X_train, y_train)\n",
    "Y_predict = Lr.predict(X_test)\n",
    "print('logistic regression train accuracy score: \\n{:.3f}'.format(Lr.score(X_train, y_train)))\n",
    "print('logistic regression test accuracy score: \\n{:.3f}\\n'.format(Lr.score(X_test, y_test)))\n",
    "\n",
    "# so to reduce the discrepancy between the accuracy of the training and test set\n",
    "# the constraint is called regularisation, and it means explicitly restricting a model to avoid overfitting\n",
    "# you use more strict algorithms like Ridge\n",
    "\n",
    "from sklearn.linear_model import Ridge\n",
    "rg = Ridge().fit(X_train, y_train)\n",
    "Y_pred = rg.predict(X_test)\n",
    "print('ridge regression train accuracy score: \\n{:.3f}'.format(rg.score(X_train, y_train)))\n",
    "print('ridge regression test accuracy score: \\n{:.3f}'.format(rg.score(X_test, y_test)))"
   ]
  },
  {
   "cell_type": "markdown",
   "id": "120c4216",
   "metadata": {},
   "source": [
    "# Despite its name, LogisticRegression is a classification algorithm and not a regression algorithm, and it should not be confused with LinearRegression."
   ]
  },
  {
   "cell_type": "code",
   "execution_count": 4,
   "id": "e4c2570b",
   "metadata": {
    "tags": []
   },
   "outputs": [
    {
     "name": "stdout",
     "output_type": "stream",
     "text": [
      "LogisticRegression Prediction\n",
      "Prediction: [0]\n",
      "Predicted target name: ['setosa']\n",
      "Train Accuracy: 0.981\n",
      "Test Accuracy: 0.978\n",
      "\n",
      "Classification report:\n",
      "               precision    recall  f1-score   support\n",
      "\n",
      "           0       1.00      1.00      1.00        14\n",
      "           1       1.00      0.94      0.97        18\n",
      "           2       0.93      1.00      0.96        13\n",
      "\n",
      "    accuracy                           0.98        45\n",
      "   macro avg       0.98      0.98      0.98        45\n",
      "weighted avg       0.98      0.98      0.98        45\n",
      "\n",
      "KNearestNeighbors Prediction\n",
      "Prediction: [0]\n",
      "Predicted target name: ['setosa']\n",
      "Train Accuracy: 0.962\n",
      "Test Accuracy: 0.978\n",
      "\n",
      "Classification report:\n",
      "               precision    recall  f1-score   support\n",
      "\n",
      "           0       1.00      1.00      1.00        14\n",
      "           1       0.95      1.00      0.97        18\n",
      "           2       1.00      0.92      0.96        13\n",
      "\n",
      "    accuracy                           0.98        45\n",
      "   macro avg       0.98      0.97      0.98        45\n",
      "weighted avg       0.98      0.98      0.98        45\n",
      "\n",
      "Support Vector Classifier Prediction\n",
      "Prediction: [0]\n",
      "Predicted target name: ['setosa']\n",
      "Train Accuracy: 0.962\n",
      "Test Accuracy: 0.978\n",
      "\n",
      "Classification report:\n",
      "               precision    recall  f1-score   support\n",
      "\n",
      "           0       1.00      1.00      1.00        14\n",
      "           1       1.00      0.94      0.97        18\n",
      "           2       0.93      1.00      0.96        13\n",
      "\n",
      "    accuracy                           0.98        45\n",
      "   macro avg       0.98      0.98      0.98        45\n",
      "weighted avg       0.98      0.98      0.98        45\n",
      "\n"
     ]
    }
   ],
   "source": [
    "from sklearn.datasets import load_iris\n",
    "iris = load_iris()\n",
    "\n",
    "from sklearn.model_selection import train_test_split\n",
    "X_train, X_test, y_train, y_test = train_test_split(iris['data'], iris['target'], test_size=0.3, random_state=1)\n",
    "X_new = np.array([[5, 2.9, 1, 0.2]])\n",
    "\n",
    "from sklearn.metrics import classification_report\n",
    "\n",
    "from sklearn.linear_model import LogisticRegression\n",
    "lr = LogisticRegression().fit(X_train, y_train)\n",
    "y_predict = lr.predict(X_test)\n",
    "prediction = lr.predict(X_new)\n",
    "\n",
    "print(\"LogisticRegression Prediction\")\n",
    "print(\"Prediction: {}\".format(prediction))\n",
    "print(\"Predicted target name: {}\".format(iris['target_names'][prediction]))\n",
    "print('Train Accuracy: {:.3f}\\nTest Accuracy: {:.3f}\\n'.format(lr.score(X_train, y_train), lr.score(X_test, y_test)))\n",
    "print('Classification report:\\n', classification_report(y_test, y_predict))\n",
    "\n",
    "from sklearn.neighbors import KNeighborsClassifier\n",
    "knn = KNeighborsClassifier(n_neighbors=4).fit(X_train, y_train)\n",
    "Y_predict = knn.predict(X_test)\n",
    "Prediction = knn.predict(X_new)\n",
    "\n",
    "print(\"KNearestNeighbors Prediction\")\n",
    "print(\"Prediction: {}\".format(Prediction))\n",
    "print(\"Predicted target name: {}\".format(iris['target_names'][Prediction]))\n",
    "print('Train Accuracy: {:.3f}\\nTest Accuracy: {:.3f}\\n'.format(knn.score(X_train, y_train), knn.score(X_test, y_test)))\n",
    "print('Classification report:\\n', classification_report(y_test, Y_predict))\n",
    "\n",
    "from sklearn.svm import SVC\n",
    "svc = SVC().fit(X_train, y_train)\n",
    "y_pred = svc.predict(X_test)\n",
    "Y_pred = svc.predict(X_new)\n",
    "\n",
    "print(\"Support Vector Classifier Prediction\")\n",
    "print(\"Prediction: {}\".format(Y_pred))\n",
    "print(\"Predicted target name: {}\".format(iris['target_names'][Y_pred]))\n",
    "print('Train Accuracy: {:.3f}\\nTest Accuracy: {:.3f}\\n'.format(svc.score(X_train, y_train), svc.score(X_test, y_test)))\n",
    "print('Classification report:\\n', classification_report(y_test, y_pred))"
   ]
  },
  {
   "cell_type": "code",
   "execution_count": 70,
   "id": "746d197b-f6a2-447a-bfa4-033b21b3b512",
   "metadata": {
    "tags": []
   },
   "outputs": [
    {
     "name": "stdout",
     "output_type": "stream",
     "text": [
      "dict_keys(['images', 'filenames', 'DESCR'])\n"
     ]
    }
   ],
   "source": [
    "from sklearn.datasets import load_sample_images\n",
    "images = load_sample_images()\n",
    "print(images.keys())"
   ]
  },
  {
   "cell_type": "code",
   "execution_count": 18,
   "id": "cee6b101-b816-4397-9b96-6bffc153a646",
   "metadata": {},
   "outputs": [],
   "source": [
    "from sklearn.neighbors import KNeighborsClassifier\n",
    "from sklearn.linear_model import LinearRegression, LogisticRegression\n",
    "\n",
    "#help(KNeighborsClassifier)\n",
    "#help(LinearRegression)\n",
    "#help(LogisticRegression)"
   ]
  },
  {
   "cell_type": "raw",
   "id": "9af5727c-db39-4b7e-9dcb-f005fcb20c8c",
   "metadata": {},
   "source": [
    "import numpy as np\n",
    "import matplotlib.pyplot as plt\n",
    "from mpl_toolkits.mplot3d import Axes3D\n",
    "\n",
    "x = np.linspace(-1,1,100)\n",
    "y = np.linspace(-1,1,100)\n",
    "\n",
    "X, Y = np.meshgrid(x,y, indexing='ij', sparse=False)\n",
    "\n",
    "z = np.exp(-1*(x**2 + y**2))\n",
    "Z = np.sqrt(1-X**2/3 - Y**2/2)\n",
    "\n",
    "plt.xlabel('x')\n",
    "plt.ylabel('y')\n",
    "plt.plot(x, z, color='black', label='Gaussian Curve',linewidth=0.7)\n",
    "plt.grid()\n",
    "plt.legend()\n",
    "plt.show()\n",
    "\n",
    "fig = plt.figure()\n",
    "ax = Axes3D(fig, auto_add_to_figure=False)\n",
    "fig.add_axes(ax)\n",
    "ax.plot_surface(X,Y,Z, rstride=2, cstride=2)\n",
    "plt.show()\n"
   ]
  },
  {
   "cell_type": "raw",
   "id": "45724077-4b28-42bb-8388-256b7a47e278",
   "metadata": {
    "tags": []
   },
   "source": [
    "# learn about pipeline and GridSearchCV\n",
    "    \n",
    "from sklearn.datasets import load_diabetes\n",
    "diabetes = load_diabetes()\n",
    "\n",
    "# creating the pipeline\n",
    "from sklearn.neighbors import KNeighborsRegressor\n",
    "from sklearn.pipeline import Pipeline\n",
    "from sklearn.preprocessing import StandardScaler\n",
    "import matplotlib.pylab as plt\n",
    "\n",
    "X, y = load_diabetes(return_X_y=True)\n",
    "pipe = Pipeline([('scale', StandardScaler()),('model', KNeighborsRegressor(n_neighbors=10))])\n",
    "pipe.fit(X, y)\n",
    "pred = pipe.predict(X)\n",
    "plt.scatter(pred, y)\n",
    "plt.show()"
   ]
  },
  {
   "cell_type": "code",
   "execution_count": 56,
   "id": "ea73b745",
   "metadata": {},
   "outputs": [],
   "source": [
    "#pipe.get_params()"
   ]
  },
  {
   "cell_type": "raw",
   "id": "fb8d76c5-74db-4093-bcfd-dfbb84dd53d4",
   "metadata": {
    "tags": []
   },
   "source": [
    "from sklearn.model_selection import GridSearchCV\n",
    "mod = GridSearchCV(estimator=pipe, param_grid={'model__n_neighbors':[1,2,3,4,5,6,7,8,9,10]}, cv=3)"
   ]
  },
  {
   "cell_type": "raw",
   "id": "bcfb89a0-88ed-4553-8ff6-b3aa9a66057c",
   "metadata": {
    "tags": []
   },
   "source": [
    "mod.fit(X,y)"
   ]
  },
  {
   "cell_type": "raw",
   "id": "7bfe67f6-281c-4d2c-a7e3-3ab9d59cfca0",
   "metadata": {},
   "source": [
    "import pandas as pd\n",
    "pd.DataFrame(mod.cv_results_)"
   ]
  },
  {
   "cell_type": "raw",
   "id": "f922efbc-ae2b-4554-bd7b-d1356d242731",
   "metadata": {},
   "source": [
    "%matplotlib inline\n",
    "import matplotlib\n",
    "import matplotlib.pyplot as plt\n",
    "\n",
    "from sklearn.datasets import load_digits\n",
    "digits = load_digits()\n",
    "X, y = digits['data'], digits['target']\n",
    "X.shape\n",
    "\n",
    "some_digit = X[167]\n",
    "some_digit_image = some_digit.reshape(8,8)\n",
    "\n",
    "plt.imshow(some_digit_image, cmap = matplotlib.cm.binary,\n",
    "interpolation=\"nearest\")\n",
    "plt.axis(\"off\")\n",
    "plt.show()"
   ]
  },
  {
   "cell_type": "raw",
   "id": "f8a6a78a-df33-41f8-b5d8-f4accc1b1540",
   "metadata": {},
   "source": [
    "y[167]"
   ]
  },
  {
   "cell_type": "markdown",
   "id": "ab49962c-4c5b-4b00-9b3c-9510b6c4543f",
   "metadata": {},
   "source": [
    "# Magic Gamma Telescope Dataset "
   ]
  },
  {
   "cell_type": "code",
   "execution_count": 28,
   "id": "da64c36f-dbad-4d20-b7e4-8eaabd1df5ac",
   "metadata": {
    "tags": []
   },
   "outputs": [
    {
     "name": "stdout",
     "output_type": "stream",
     "text": [
      "Data shape = (19020, 11)\n",
      "New_Data shape = (19020, 10)\n",
      "Labels shape = (19020,)\n",
      "{'data': array([[ 28.7967,  16.0021,   2.6449, ...,  -8.2027,  40.092 ,  81.8828],\n",
      "       [ 31.6036,  11.7235,   2.5185, ...,  -9.9574,   6.3609, 205.261 ],\n",
      "       [162.052 , 136.031 ,   4.0612, ..., -45.216 ,  76.96  , 256.788 ],\n",
      "       ...,\n",
      "       [ 75.4455,  47.5305,   3.4483, ...,  -9.4662,  30.2987, 256.5166],\n",
      "       [120.5135,  76.9018,   3.9939, ..., -63.8389,  84.6874, 408.3166],\n",
      "       [187.1814,  53.0014,   3.2093, ...,  31.4755,  52.731 , 272.3174]]), 'labels': array(['g', 'g', 'g', ..., 'h', 'h', 'h'], dtype='<U1')}\n"
     ]
    }
   ],
   "source": [
    "# hard way \n",
    "# of first converting the 'magic04.data' to 'txt' file\n",
    "# and then creating my own dataset manually\n",
    "\"\"\"with open('C:\\\\Users\\\\Admin\\\\Downloads\\\\gamma_dataset.txt', 'r') as file:\n",
    "    F = file.read().split(',')\n",
    "    i = 0\n",
    "    for line in F:\n",
    "        print(line)\n",
    "        i += 1\n",
    "        if i == 20:\n",
    "            break\"\"\"\n",
    "            \n",
    "# copying from one filew to another\n",
    "# there are 11 columns (not actual columns, though, separated by ',') and the last virtual column has a letter type isalpha\n",
    "# so the code runsfrom the first column to the 11th column and add [letter]\\n to mean new line\n",
    "\n",
    "\n",
    "with open('C:\\\\Users\\\\Admin\\\\Downloads\\\\gamma_dataset.txt', 'r') as file:\n",
    "    with open('new_gamma_dataset.txt', 'w+') as File:\n",
    "        for item in file.read().split(','):\n",
    "            if item.isnumeric:\n",
    "                File.write(item + ',')\n",
    "            else:\n",
    "                if item.isaplha:\n",
    "                    File.write(item + ',\\n')\n",
    "                    \n",
    "import numpy as np\n",
    "import pandas as pd\n",
    "with open('C:\\\\Users\\\\Admin\\\\Downloads\\\\gamma_dataset.txt', 'r') as file:\n",
    "    header = ['fLength', 'fWidth', 'fSize', 'fConc', 'fConc1',\n",
    "                  'fAsym', 'fM3Long', 'fM3Trans', 'fAlpha', 'fDist', 'class']\n",
    "    data = []\n",
    "    for line in file:\n",
    "        #print('line =', line)\n",
    "        Line = line.split(',')\n",
    "        #print('Line =',Line,'\\n\\n')\n",
    "        new_line = []\n",
    "        for items in Line:\n",
    "            if items.endswith('\\n'):\n",
    "                new_line.append(items.rstrip('\\n'))\n",
    "            else:\n",
    "                new_line.append(items)\n",
    "        data.append(new_line)\n",
    "        i = 0\n",
    "    \"\"\"for item in data:\n",
    "        print(item)\n",
    "        i += 1\n",
    "        if i == 20:\n",
    "            break\"\"\"\n",
    "    Data = np.array(data)\n",
    "    print('Data shape =',Data.shape)    \n",
    "    df = pd.DataFrame(Data, columns=header)\n",
    "    #display(df)\n",
    "    labels = []\n",
    "    for i in data:\n",
    "        labels.append(i[-1])\n",
    "        i.pop()\n",
    "    New_Data = np.array(data, dtype=float)\n",
    "    print('New_Data shape =', New_Data.shape)\n",
    "    #Labels = np.array(labels).reshape(-1,1)\n",
    "    Labels = np.array(labels, dtype=str)\n",
    "    print('Labels shape =', Labels.shape)\n",
    "    \n",
    "    Gamma = dict(zip(['data','labels'],[New_Data,Labels]))\n",
    "    print(Gamma)\n",
    "        "
   ]
  },
  {
   "cell_type": "raw",
   "id": "b682a235-13b8-4be6-8cdb-30f62e0cbf2a",
   "metadata": {
    "tags": []
   },
   "source": [
    "from sklearn.model_selection import train_test_split\n",
    "from sklearn.neighbors import KNeighborsClassifier, KNeighborsRegressor\n",
    "from numpy import ravel\n",
    "\n",
    "# encoding the gamma data labels\n",
    "from sklearn.preprocessing import LabelEncoder\n",
    "encoder = LabelEncoder()\n",
    "labels_cat_encoded = encoder.fit_transform(Gamma['labels'])\n",
    "print('labels_cat_encoded =', labels_cat_encoded)\n",
    "from sklearn.preprocessing import OneHotEncoder\n",
    "Encoder = OneHotEncoder()\n",
    "#labels_cat_1hot = encoder.fit_transform(labels_cat_encoded.reshape(-1,1))\n",
    "labels_cat_1hot = encoder.fit_transform(labels_cat_encoded)\n",
    "print('labels_cat_1hot =',ravel(labels_cat_1hot))\n",
    "\n",
    "X_train, X_test, y_train, y_test = train_test_split(Gamma['data'],ravel(labels_cat_1hot), test_size=0.3,random_state=42)\n",
    "knn = KNeighborsClassifier(n_neighbors=5).fit(X_train, y_train)\n",
    "knr = KNeighborsRegressor(n_neighbors=5).fit(X_train, y_train)\n",
    "pred = knn.predict(X_test)\n",
    "Pred = knr.predict(X_test)\n",
    "\n",
    "print('KNeighborsClassifier:\\n')\n",
    "print('train_accuracy_score = {:.3f}'.format(knn.score(X_train, y_train)))\n",
    "print('test_accuracy_score = {:.3f}'.format(knn.score(X_test, y_test)))\n",
    "\n",
    "print('KNeighborsRegressor:\\n')\n",
    "print('train_accuracy_score = {:.3f}'.format(knr.score(X_train, y_train)))\n",
    "print('test_accuracy_score = {:.3f}'.format(knr.score(X_test, y_test)))\n",
    "print('prediction =', pred)\n",
    "#from numpy import ravel\n",
    "#??ravel\n",
    "\n",
    "# try to use a GridSearch\n",
    "from sklearn.pipeline import Pipeline\n",
    "from sklearn.preprocessing import StandardScaler\n",
    "from sklearn.model_selection import GridSearchCV\n",
    "import pandas as pd\n",
    "\n",
    "pipe1 = Pipeline([('scale', StandardScaler()), ('model', KNeighborsClassifier(n_neighbors=3))])\n",
    "mod1 = GridSearchCV(estimator=pipe1, param_grid={'model__n_neighbors':[1,2,3,4,5,6,7,8,9,10]}, cv=3, n_jobs=-1)\n",
    "mod1.fit(Gamma['data'], ravel(labels_cat_1hot))\n",
    "pd.DataFrame(mod1.cv_results_)\n"
   ]
  },
  {
   "cell_type": "raw",
   "id": "91b815f9-e898-41ee-b9e7-0dc055881d17",
   "metadata": {
    "tags": []
   },
   "source": [
    "from sklearn.metrics import precision_score, recall_score, make_scorer\n",
    "\n",
    "pipe2 = Pipeline([('scale', StandardScaler()), ('model', KNeighborsRegressor(n_neighbors=3))])\n",
    "mod2 = GridSearchCV(estimator=pipe2, param_grid={'model__n_neighbors':[1,2,3,4,5,6,7,8,9,10]},\n",
    "                    scoring={'precision': make_scorer(precision_score), 'recall': make_scorer(recall_score)}, \n",
    "                    refit='recall', return_train_score=True,\n",
    "                    cv=10, n_jobs=-1)\n",
    "mod2.fit(X_train, y_train)\n",
    "pd.DataFrame(mod2.cv_results_)"
   ]
  },
  {
   "cell_type": "code",
   "execution_count": 11,
   "id": "ea60ef18-81eb-4eb7-9867-84edc95bc359",
   "metadata": {
    "tags": []
   },
   "outputs": [],
   "source": [
    "# easy way\n",
    "columns = ['fLength', 'fWidth', 'fSize', 'fConc', 'fConc1',\n",
    "                  'fAsym', 'fM3Long', 'fM3Trans', 'fAlpha', 'fDist', 'class']\n",
    "df = pd.read_csv('magic04.data', names=columns)\n",
    "#df.head()"
   ]
  },
  {
   "cell_type": "raw",
   "id": "87ca7675-9ff2-48fc-9b2b-0d47533cc875",
   "metadata": {
    "tags": []
   },
   "source": [
    "df['class'] = (df['class'] == 'g').astype(int)\n",
    "df.head()"
   ]
  },
  {
   "cell_type": "raw",
   "id": "df48edc1-f5d7-447d-bce5-4c1a95266a83",
   "metadata": {
    "tags": []
   },
   "source": [
    "df.tail()"
   ]
  },
  {
   "cell_type": "raw",
   "id": "d7fc5c52-3ba5-4887-93fe-f71a9b536c7a",
   "metadata": {
    "tags": []
   },
   "source": [
    "%matplotlib inline\n",
    "import matplotlib.pyplot as plt\n",
    "for Label in columns[:-1]:\n",
    "    plt.hist(df[df['class'] == 1][Label], color='blue', label='gamma', alpha=0.7, density=True)\n",
    "    plt.hist(df[df['class'] == 0][Label], color='red', label='hadron', alpha=0.7, density=True)\n",
    "    plt.title(Label)\n",
    "    plt.ylabel('Probability')\n",
    "    plt.xlabel(Label)\n",
    "    plt.legend()\n",
    "    plt.show()"
   ]
  },
  {
   "cell_type": "markdown",
   "id": "af9e45b5-d598-4a62-a78d-8c99a331750d",
   "metadata": {
    "tags": []
   },
   "source": [
    "# Train, validation, test datasets"
   ]
  },
  {
   "cell_type": "code",
   "execution_count": 15,
   "id": "5b756cab-abdd-4035-9142-a01fcf8f9a94",
   "metadata": {
    "tags": []
   },
   "outputs": [],
   "source": [
    "import numpy as np\n",
    "train, valid, test = np.split(df.sample(frac=1), [int(.6*len(df)), int(0.8*len(df))])\n",
    "\n",
    "from sklearn.model_selection import train_test_split\n",
    "#X_train, X_test, y_train, y_test = train_test_split()"
   ]
  },
  {
   "cell_type": "raw",
   "id": "540b9bfc-d5f2-4651-9db9-189a052cd338",
   "metadata": {
    "tags": []
   },
   "source": [
    "import numpy as np\n",
    "from imblearn.over_sampling import RandomOverSampler\n",
    "\n",
    "def scale_dataset(dataframe, oversample=False):\n",
    "    X = dataframe[dataframe.columns[:-1]].values\n",
    "    y = dataframe[dataframe.columns[-1]].values\n",
    "    \n",
    "    from sklearn.preprocessing import StandardScaler\n",
    "    scaler = StandardScaler()\n",
    "    X = scaler.fit_transform(X)\n",
    "    if oversample:\n",
    "        ros = RandomOverSampler()\n",
    "        X, y = ros.fit_resample(X,y)\n",
    "    \n",
    "    # stacking the sample matrix side by side with the y_label vector\n",
    "    data = np,hstack((X,y.reshape(-1,1)))\n",
    "    \n",
    "    return data, X, y\n",
    "    \n",
    "    \n",
    "# import error: cannot import _MissingValues from sklearn.utils._param_valiation"
   ]
  },
  {
   "cell_type": "raw",
   "id": "eff04090-d4ce-49d4-b46d-35e77f386468",
   "metadata": {
    "tags": []
   },
   "source": [
    "train, x_train, y_train = scale_dataset(train, oversample=True)\n",
    "\n",
    "print(len(train[train['class']==1]))\n",
    "print(len(train[train['class']==0]))"
   ]
  },
  {
   "cell_type": "raw",
   "id": "67c50e98-d1b7-43e8-85ca-05a6b332ae38",
   "metadata": {
    "tags": []
   },
   "source": [
    "%matplotlib inline\n",
    "import matplotlib.pyplot as plt\n",
    "from sklearn.datasets import make_classification\n",
    "from sklearn.metrics import PrecisionRecallDisplay\n",
    "from sklearn.model_selection import train_test_split\n",
    "from sklearn.linear_model import LogisticRegression\n",
    "X, y = make_classification(random_state=0)\n",
    "X_train, X_test, y_train, y_test = train_test_split(X, y, random_state=0)\n",
    "clf = LogisticRegression()\n",
    "clf.fit(X_train, y_train)\n",
    "y_pred = clf.predict_proba(X_test)[:, 1]\n",
    "PrecisionRecallDisplay.from_predictions(y_test, y_pred)\n",
    "plt.show()\n",
    " "
   ]
  },
  {
   "cell_type": "markdown",
   "id": "fa1a07e3-c050-40b3-8bf8-bb34f84a9b16",
   "metadata": {},
   "source": [
    "# Decision Trees"
   ]
  },
  {
   "cell_type": "code",
   "execution_count": 13,
   "id": "5e4a0bfb-0f0b-435c-860d-b015290936a4",
   "metadata": {
    "tags": []
   },
   "outputs": [
    {
     "name": "stdout",
     "output_type": "stream",
     "text": [
      "Accuracy on training set: 1.000\n",
      "Accuracy on test set: 0.937\n"
     ]
    }
   ],
   "source": [
    "from sklearn.datasets import load_breast_cancer\n",
    "from sklearn.tree import DecisionTreeClassifier\n",
    "from sklearn.model_selection import train_test_split\n",
    "\n",
    "cancer = load_breast_cancer()\n",
    "X_train, X_test, y_train, y_test = train_test_split(cancer.data, cancer.target, stratify=cancer.target, random_state=42)\n",
    "tree = DecisionTreeClassifier(random_state=0)\n",
    "tree.fit(X_train, y_train)\n",
    "print(\"Accuracy on training set: {:.3f}\".format(tree.score(X_train, y_train)))\n",
    "print(\"Accuracy on test set: {:.3f}\".format(tree.score(X_test, y_test)))"
   ]
  },
  {
   "cell_type": "code",
   "execution_count": 32,
   "id": "d662db1c-c101-45f5-bb96-2f7d3b2568aa",
   "metadata": {
    "tags": []
   },
   "outputs": [
    {
     "name": "stdout",
     "output_type": "stream",
     "text": [
      "Accuracy on training set: 0.988\n",
      "Accuracy on test set: 0.951\n"
     ]
    }
   ],
   "source": [
    "tree = DecisionTreeClassifier(max_depth=4, random_state=0)\n",
    "tree.fit(X_train, y_train)\n",
    "print(\"Accuracy on training set: {:.3f}\".format(tree.score(X_train, y_train)))\n",
    "print(\"Accuracy on test set: {:.3f}\".format(tree.score(X_test, y_test)))\n",
    "\n",
    "from sklearn.tree import export_graphviz\n",
    "export_graphviz(tree, out_file=\"tree.dot\", class_names=[\"malignant\", \"benign\"],\n",
    "feature_names=cancer.feature_names, impurity=False, filled=True)"
   ]
  },
  {
   "cell_type": "markdown",
   "id": "31b17516-a747-4f87-9f26-b8e1eff331c7",
   "metadata": {},
   "source": [
    "# Random Forest"
   ]
  },
  {
   "cell_type": "code",
   "execution_count": 47,
   "id": "f4a719cb-3a18-4fd9-bb77-31181e14503c",
   "metadata": {
    "tags": []
   },
   "outputs": [
    {
     "name": "stdout",
     "output_type": "stream",
     "text": [
      "Accuracy on training set: 96.000 %\n",
      "Accuracy on test set: 92.000 %\n"
     ]
    }
   ],
   "source": [
    "from sklearn.ensemble import RandomForestClassifier\n",
    "from sklearn.datasets import make_moons\n",
    "\n",
    "X, y = make_moons(n_samples=100, noise=0.25, random_state=3)\n",
    "X_train, X_test, y_train, y_test = train_test_split(X, y, stratify=y,random_state=42)\n",
    "\n",
    "forest = RandomForestClassifier(n_estimators=5, random_state=2)\n",
    "forest.fit(X_train, y_train)\n",
    "\n",
    "print(\"Accuracy on training set: {:.3f} %\".format(forest.score(X_train, y_train)*100))\n",
    "print(\"Accuracy on test set: {:.3f} %\".format(forest.score(X_test, y_test)*100))\n",
    "#??RandomForestClassifier"
   ]
  },
  {
   "cell_type": "code",
   "execution_count": 46,
   "id": "0f5f0fad-41d5-4aef-ba14-63d7093cea3c",
   "metadata": {
    "tags": []
   },
   "outputs": [
    {
     "name": "stdout",
     "output_type": "stream",
     "text": [
      "Accuracy on training set: 0.993\n",
      "Accuracy on test set: 0.986\n"
     ]
    }
   ],
   "source": [
    "from sklearn.datasets import load_breast_cancer\n",
    "from numpy import sqrt\n",
    "cancer = load_breast_cancer()\n",
    "\n",
    "X_train, X_test, y_train, y_test = train_test_split(cancer.data, cancer.target, random_state=0)\n",
    "\n",
    "forest = RandomForestClassifier(n_estimators=100,max_features=int(sqrt(100)),max_depth=4,random_state=0)\n",
    "forest.fit(X_train, y_train)\n",
    "print(\"Accuracy on training set: {:.3f}\".format(forest.score(X_train, y_train)))\n",
    "print(\"Accuracy on test set: {:.3f}\".format(forest.score(X_test, y_test)))"
   ]
  },
  {
   "cell_type": "markdown",
   "id": "88cae758-bd20-45a0-a4d5-1126ff5fb33f",
   "metadata": {},
   "source": [
    "# Gradient Boosted Trees"
   ]
  },
  {
   "cell_type": "code",
   "execution_count": 53,
   "id": "b76c2096-ff14-4503-869a-c02b18fc899b",
   "metadata": {
    "tags": []
   },
   "outputs": [
    {
     "name": "stdout",
     "output_type": "stream",
     "text": [
      "Accuracy on training set: 0.977\n",
      "Accuracy on test set: 0.965\n"
     ]
    }
   ],
   "source": [
    "# By default, 100 trees of maximum depth 3 and a learning rate of 0.1 are used\n",
    "from sklearn.ensemble import GradientBoostingClassifier\n",
    "\n",
    "X_train, X_test, y_train, y_test = train_test_split(cancer.data, cancer.target, random_state=0)\n",
    "\n",
    "gbrt = GradientBoostingClassifier(random_state=0,max_depth=1, learning_rate=0.05)\n",
    "gbrt.fit(X_train, y_train)\n",
    "\n",
    "print(\"Accuracy on training set: {:.3f}\".format(gbrt.score(X_train, y_train)))\n",
    "print(\"Accuracy on test set: {:.3f}\".format(gbrt.score(X_test, y_test)))"
   ]
  },
  {
   "cell_type": "markdown",
   "id": "a8101500-49c3-43ef-8481-d95c771d8c20",
   "metadata": {},
   "source": [
    "# Image recognition"
   ]
  },
  {
   "cell_type": "raw",
   "id": "0ace0e29-9fd2-4f03-9894-bc378992c92d",
   "metadata": {
    "tags": []
   },
   "source": [
    "import pandas as pd\n",
    "import numpy as np\n",
    "\n",
    "mnist_train = pd.read_csv('C:\\\\Users\\\\Admin\\\\Downloads\\\\mnist_train.csv')\n",
    "mnist_test = pd.read_csv('C:\\\\Users\\\\Admin\\\\Downloads\\\\mnist_test.csv')\n",
    "\n",
    "\n",
    "print(mnist_train.shape)\n",
    "print(mnist_test.shape)\n",
    "\n",
    "Mnist_train = pd.DataFrame(mnist_train)\n",
    "#mnist_train.head(0)\n",
    "\n",
    "import csv\n",
    "with open('C:\\\\Users\\\\Admin\\\\Downloads\\\\mnist_train.csv') as file:\n",
    "    File = csv.reader(file)\n",
    "    next(File)\n",
    "    data = list(File)\n",
    "    print('1st 4 rows of the data:\\n\\n', data[:4])\n",
    "    i = 0\n",
    "    for line in data:\n",
    "        print('\\n\\nline', line)\n",
    "        i += 1\n",
    "        if i == 4:\n",
    "            break\n",
    "    \n",
    "    labels = []\n",
    "    k = 0\n",
    "    for Line in data:\n",
    "        labels.append(Line[:1])\n",
    "        #Line.remove(Line[:1])\n",
    "        k += 1\n",
    "        if k == 10:\n",
    "            break\n",
    "            \n",
    "    for idx, line in enumerate(data[:10]):\n",
    "        print('{} : {}\\n\\n'.format(idx, line))\n",
    "        \n",
    "    for line in list(File):\n",
    "        print('new_line =\\n\\n', line)\n",
    "        k += 1\n",
    "        if k == 5:\n",
    "            break\n",
    "    print('Labels =\\n',labels)\n",
    "    print('size of labels =', len(labels))"
   ]
  },
  {
   "cell_type": "code",
   "execution_count": null,
   "id": "47260c90-2a46-4454-b817-9a02a006f363",
   "metadata": {},
   "outputs": [],
   "source": [
    "from sklearn.model_selection import train_test_split\n",
    "X_train, X_test, y_train, y_test = train_test_split()"
   ]
  },
  {
   "cell_type": "code",
   "execution_count": 23,
   "id": "8bb799f4-9a1f-49b3-9674-35fe88515991",
   "metadata": {
    "tags": []
   },
   "outputs": [],
   "source": [
    "from sklearn.datasets import load_digits\n",
    "digits = load_digits()\n",
    "#digits"
   ]
  },
  {
   "cell_type": "code",
   "execution_count": 22,
   "id": "807f4ecc-8726-4ad3-992f-8e9a49b42a9a",
   "metadata": {
    "tags": []
   },
   "outputs": [
    {
     "data": {
      "text/plain": [
       "(1797, 64)"
      ]
     },
     "execution_count": 22,
     "metadata": {},
     "output_type": "execute_result"
    }
   ],
   "source": [
    "digits['data'].shape"
   ]
  },
  {
   "cell_type": "raw",
   "id": "973479bf-ac77-4df1-addc-53253425db51",
   "metadata": {
    "tags": []
   },
   "source": [
    "# -*- coding: utf-8 -*-\n",
    "\"\"\"\n",
    "Created on Tue Jul 16 15:33:24 2024\n",
    "\n",
    "@author: Ngoni\n",
    "\"\"\"\n",
    "\n",
    "import pandas as pd\n",
    "import numpy as np\n",
    "\n",
    "\"\"\"mnist_train = pd.read_csv('C:\\\\Users\\\\Admin\\\\Downloads\\\\mnist_train.csv')\n",
    "mnist_test = pd.read_csv('C:\\\\Users\\\\Admin\\\\Downloads\\\\mnist_test.csv')\n",
    "\n",
    "\n",
    "print(mnist_train.shape)\n",
    "print(mnist_test.shape)\n",
    "\n",
    "Mnist_train = pd.DataFrame(mnist_train)\n",
    "mnist_train.head(0)\"\"\"\n",
    "\n",
    "print('\\t\\t\\tTRANSFORMING MNIST_DATASET\\n\\n')\n",
    "import csv\n",
    "with open('C:\\\\Users\\\\Admin\\\\Downloads\\\\mnist_train.csv') as file:\n",
    "    File = csv.reader(file)\n",
    "    next(File)\n",
    "    data = list(File)\n",
    "    print('1st 4 rows of the data:\\n\\n', data[:4])\n",
    "    i = 0\n",
    "    for line in data:\n",
    "        print('\\n\\nline', line)\n",
    "        i += 1\n",
    "        if i == 4:\n",
    "            break\n",
    "    \n",
    "    labels = []\n",
    "    k = 0\n",
    "    for Line in data:\n",
    "        labels.append(Line[:1])\n",
    "        #Line.remove(Line[:1])\n",
    "        k += 1\n",
    "        if k == 20:\n",
    "            break\n",
    "        \n",
    "    print('labels[:20] =\\n', labels[:20])\n",
    "    \n",
    "    labels_1 = []\n",
    "    for i in labels:\n",
    "        labels_1.append(i[:])\n",
    "        \n",
    "    for item in labels_1:\n",
    "        print('item: {}'.format(item[:1]))\n",
    "        k += 1\n",
    "        if k == 20:\n",
    "            break\n",
    "        \n",
    "    Labels = np.array(labels_1, dtype=float)\n",
    "       \n",
    "    for idx, line in enumerate(data[:20]):\n",
    "        print('{} : {}\\n\\n'.format(idx, line))\n",
    "          \n",
    "    \"\"\"for line in list(File):\n",
    "        print('new_line =\\n\\n', line)\n",
    "        k += 1\n",
    "        if k == 5:\n",
    "            break\"\"\"\n",
    "        \n",
    "    print('Labels =\\n',labels)\n",
    "    print('size of labels =', len(labels))\n",
    "    print('Labels_array =\\n', Labels)\n",
    "    \n",
    "    \n",
    "input('\\n\\nPress the enter key to exit.')"
   ]
  },
  {
   "cell_type": "markdown",
   "id": "ec4aeea2-27c0-448d-82e1-43efb13e7fa1",
   "metadata": {},
   "source": [
    "# train_set"
   ]
  },
  {
   "cell_type": "code",
   "execution_count": 2,
   "id": "5562b025-fb8e-4948-b6f4-9565b3133b3a",
   "metadata": {
    "tags": []
   },
   "outputs": [
    {
     "name": "stdout",
     "output_type": "stream",
     "text": [
      "\t\t\tTRANSFORMING MNIST_DATASET\n",
      "\n",
      "\n",
      "Done!\n"
     ]
    }
   ],
   "source": [
    "# -*- coding: utf-8 -*-\n",
    "\"\"\"\n",
    "Created on Tue Jul 16 15:33:24 2024\n",
    "\n",
    "@author: Ngoni\n",
    "\"\"\"\n",
    "\n",
    "import pandas as pd\n",
    "import numpy as np\n",
    "\n",
    "\"\"\"mnist_train = pd.read_csv('C:\\\\Users\\\\Admin\\\\Downloads\\\\mnist_train.csv')\n",
    "mnist_test = pd.read_csv('C:\\\\Users\\\\Admin\\\\Downloads\\\\mnist_test.csv')\n",
    "\n",
    "\n",
    "print(mnist_train.shape)\n",
    "print(mnist_test.shape)\n",
    "\n",
    "Mnist_train = pd.DataFrame(mnist_train)\n",
    "mnist_train.head(0)\"\"\"\n",
    "\n",
    "print('\\t\\t\\tTRANSFORMING MNIST_DATASET\\n\\n')\n",
    "import csv\n",
    "with open('C:\\\\Users\\\\Admin\\\\Downloads\\\\mnist_train.csv') as file:\n",
    "    File = csv.reader(file)\n",
    "    next(File)\n",
    "    data = list(File)\n",
    "    \"\"\"print('1st 4 rows of the data:\\n\\n')\n",
    "    for idx, item in enumerate(data[:4]):\n",
    "        print('{} : {}\\n'.format(idx, item))\"\"\"\n",
    "        \n",
    "    \"\"\"i = 0\n",
    "    for line in data:\n",
    "        print('\\n\\nline', line)\n",
    "        i += 1\n",
    "        if i == 4:\n",
    "            break\"\"\"\n",
    "    \"\"\"for i in data[:4]:\n",
    "        print('original sample item length =', len(i))\"\"\"\n",
    "    \n",
    "    labels = []\n",
    "    k = 0\n",
    "    \"\"\"for Line in data:\n",
    "        for elem in Line[:1]:\n",
    "            labels.append(elem)\n",
    "            Line.remove(elem)\"\"\"  \n",
    "   \n",
    "    for Line in data:\n",
    "       labels.append(Line[0])\n",
    "       Line.remove(Line[0]) \n",
    "\n",
    "    \"\"\"for i in data[:4]:\n",
    "        print('updated sample item length =', len(i))\"\"\"  \n",
    "    #print('labels[:20] =\\n', labels[:20])\n",
    "    #print('new_data[:4] =\\n\\n', data[:4])\n",
    "    \n",
    "    \"\"\"labels_1 = []\n",
    "    for i in labels:\n",
    "        labels_1.append(i[:])\n",
    "        \n",
    "    for item in labels_1:\n",
    "        print('item: {}'.format(item[:1]))\n",
    "        k += 1\n",
    "        if k == 20:\n",
    "            break\"\"\"\n",
    "    \n",
    "    Data = np.array(data, dtype=float)\n",
    "    Data.reshape(-1,1)\n",
    "    Labels = np.array(labels, dtype=float)\n",
    "    Labels.reshape(-1,1)\n",
    "       \n",
    "    \"\"\"for idx, line in enumerate(data[:20]):\n",
    "        print('{} : {}\\n\\n'.format(idx, line))\"\"\"\n",
    "          \n",
    "    \"\"\"for line in list(File):\n",
    "        print('new_line =\\n\\n', line)\n",
    "        k += 1\n",
    "        if k == 5:\n",
    "            break\"\"\"\n",
    "        \n",
    "    #print('Labels =\\n',labels)\n",
    "    #print('size of labels =', len(labels))\n",
    "    #print('Labels_array =\\n', Labels, '\\n\\nlabels_shape =', Labels.shape)\n",
    "    #print('Data_array =\\n', Data, '\\n\\ndata_shape =', Data.shape)\n",
    "\n",
    "\"\"\"with open('mnist_dataset_data.txt', 'w+') as file:\n",
    "    for item in data:\n",
    "        file.write(str(item))\n",
    "        file.write('\\n')\n",
    "\n",
    "for idx, item in enumerate(data[:20]):\n",
    "    print('{} : {}\\n'.format(idx,len(item)))\"\"\"\n",
    "    \n",
    "\"\"\"with open('mnist_dataset_labels.txt', 'w+') as file:\n",
    "    for item in Labels:\n",
    "        file.write(str(item) + ',\\n')\"\"\"\n",
    "\n",
    "#print(Data[:2])\n",
    "print('Done!')"
   ]
  },
  {
   "cell_type": "code",
   "execution_count": 3,
   "id": "f5e473f2-a20d-4af7-814d-b80f3ee5e12b",
   "metadata": {
    "tags": []
   },
   "outputs": [
    {
     "data": {
      "image/png": "[encoded data removed]",
      "text/plain": [
       "<Figure size 640x480 with 1 Axes>"
      ]
     },
     "metadata": {},
     "output_type": "display_data"
    }
   ],
   "source": [
    "%matplotlib inline\n",
    "import matplotlib\n",
    "import matplotlib.pyplot as plt\n",
    "X = Data\n",
    "some_digit = X[36000]\n",
    "some_digit_image = some_digit.reshape(28, 28)\n",
    "plt.imshow(some_digit_image, cmap = matplotlib.cm.binary,\n",
    "interpolation=\"nearest\")\n",
    "plt.axis(\"off\")\n",
    "plt.show()"
   ]
  },
  {
   "cell_type": "code",
   "execution_count": 4,
   "id": "5838ae77-1bed-4777-a2c1-a2e2cb3334fb",
   "metadata": {
    "tags": []
   },
   "outputs": [
    {
     "data": {
      "text/plain": [
       "9.0"
      ]
     },
     "execution_count": 4,
     "metadata": {},
     "output_type": "execute_result"
    }
   ],
   "source": [
    "y = Labels\n",
    "y[36000]"
   ]
  },
  {
   "cell_type": "code",
   "execution_count": 5,
   "id": "61f252b9-a58d-4549-ab71-05d44aacd767",
   "metadata": {
    "tags": []
   },
   "outputs": [],
   "source": [
    "import numpy as np\n",
    "shuffle_index = np.random.permutation(60000)\n",
    "X_train, y_train = Data[shuffle_index], Labels[shuffle_index]"
   ]
  },
  {
   "cell_type": "code",
   "execution_count": 6,
   "id": "94be1bf8-e3c7-4086-bdf3-a8f0316e3c3d",
   "metadata": {
    "tags": []
   },
   "outputs": [
    {
     "data": {
      "image/png": "[encoded data removed]",
      "text/plain": [
       "<Figure size 640x480 with 1 Axes>"
      ]
     },
     "metadata": {},
     "output_type": "display_data"
    },
    {
     "data": {
      "image/png": "[encoded data removed]",
      "text/plain": [
       "<Figure size 640x480 with 1 Axes>"
      ]
     },
     "metadata": {},
     "output_type": "display_data"
    },
    {
     "data": {
      "image/png": "[encoded data removed]",
      "text/plain": [
       "<Figure size 640x480 with 1 Axes>"
      ]
     },
     "metadata": {},
     "output_type": "display_data"
    },
    {
     "data": {
      "image/png": "[encoded data removed]",
      "text/plain": [
       "<Figure size 640x480 with 1 Axes>"
      ]
     },
     "metadata": {},
     "output_type": "display_data"
    },
    {
     "data": {
      "image/png": "[encoded data removed]",
      "text/plain": [
       "<Figure size 640x480 with 1 Axes>"
      ]
     },
     "metadata": {},
     "output_type": "display_data"
    },
    {
     "data": {
      "image/png": "[encoded data removed]",
      "text/plain": [
       "<Figure size 640x480 with 1 Axes>"
      ]
     },
     "metadata": {},
     "output_type": "display_data"
    },
    {
     "data": {
      "image/png": "[encoded data removed]",
      "text/plain": [
       "<Figure size 640x480 with 1 Axes>"
      ]
     },
     "metadata": {},
     "output_type": "display_data"
    },
    {
     "data": {
      "image/png": "[encoded data removed]",
      "text/plain": [
       "<Figure size 640x480 with 1 Axes>"
      ]
     },
     "metadata": {},
     "output_type": "display_data"
    },
    {
     "data": {
      "image/png": "[encoded data removed]",
      "text/plain": [
       "<Figure size 640x480 with 1 Axes>"
      ]
     },
     "metadata": {},
     "output_type": "display_data"
    },
    {
     "data": {
      "image/png": "[encoded data removed]",
      "text/plain": [
       "<Figure size 640x480 with 1 Axes>"
      ]
     },
     "metadata": {},
     "output_type": "display_data"
    },
    {
     "data": {
      "image/png": "[encoded data removed]",
      "text/plain": [
       "<Figure size 640x480 with 1 Axes>"
      ]
     },
     "metadata": {},
     "output_type": "display_data"
    }
   ],
   "source": [
    "%matplotlib inline\n",
    "import matplotlib\n",
    "import matplotlib.pyplot as plt\n",
    "X = Data\n",
    "A = [X[12344], X[656], X[9976], X[50100], X[23965], X[1729], X[17235], X[20], X[100], X[8888], X[1474]]\n",
    "for some_digit in A:\n",
    "    some_digit_image = some_digit.reshape(28, 28)\n",
    "    plt.imshow(some_digit_image, cmap = matplotlib.cm.binary,\n",
    "    interpolation=\"nearest\")\n",
    "    plt.axis(\"off\")\n",
    "    plt.show()"
   ]
  },
  {
   "cell_type": "markdown",
   "id": "1ac1559a-2ceb-4046-8577-fc3720a62e7c",
   "metadata": {},
   "source": [
    "# test_set"
   ]
  },
  {
   "cell_type": "code",
   "execution_count": 8,
   "id": "d738dee4-3536-42f6-9aec-b518c7b91a79",
   "metadata": {
    "tags": []
   },
   "outputs": [
    {
     "name": "stdout",
     "output_type": "stream",
     "text": [
      "Done!\n"
     ]
    }
   ],
   "source": [
    "import csv\n",
    "with open('C:\\\\Users\\\\Admin\\\\Downloads\\\\mnist_test.csv') as file:\n",
    "    File = csv.reader(file)\n",
    "    next(File)\n",
    "    data_ = list(File)\n",
    "    \n",
    "    # creating labels vector and the features matrix\n",
    "    labels_ = []\n",
    "    for Line in data_:\n",
    "       labels_.append(Line[0])\n",
    "       Line.remove(Line[0])\n",
    "    \n",
    "    # reshaping the data\n",
    "    Data_ = np.array(data_, dtype=float)\n",
    "    Data_.reshape(-1,1)\n",
    "    Labels_ = np.array(labels_, dtype=float)\n",
    "    Labels_.reshape(-1,1)\n",
    "    \n",
    "    # writing the data to text files\n",
    "    \"\"\"with open('mnist_dataset_test_data.txt', 'w+') as file:\n",
    "        for item in data_:\n",
    "            file.write(str(item))\n",
    "            file.write('\\n')\n",
    "    with open('mnist_dataset_test_labels.txt', 'w+') as file:\n",
    "        for item in Labels_:\n",
    "            file.write(str(item) + ',\\n')\"\"\"\n",
    "print('Done!')"
   ]
  },
  {
   "cell_type": "code",
   "execution_count": 9,
   "id": "cd6cb85f-e119-456f-a72d-e8b383c2ddaa",
   "metadata": {
    "tags": []
   },
   "outputs": [],
   "source": [
    "X_test, y_test = Data_, Labels_"
   ]
  },
  {
   "cell_type": "code",
   "execution_count": 13,
   "id": "47174ed5-ecc0-4608-ba52-570fa07a65fa",
   "metadata": {
    "tags": []
   },
   "outputs": [
    {
     "data": {
      "text/html": [
       "<style>#sk-container-id-3 {color: black;}#sk-container-id-3 pre{padding: 0;}#sk-container-id-3 div.sk-toggleable {background-color: white;}#sk-container-id-3 label.sk-toggleable__label {cursor: pointer;display: block;width: 100%;margin-bottom: 0;padding: 0.3em;box-sizing: border-box;text-align: center;}#sk-container-id-3 label.sk-toggleable__label-arrow:before {content: \"▸\";float: left;margin-right: 0.25em;color: #696969;}#sk-container-id-3 label.sk-toggleable__label-arrow:hover:before {color: black;}#sk-container-id-3 div.sk-estimator:hover label.sk-toggleable__label-arrow:before {color: black;}#sk-container-id-3 div.sk-toggleable__content {max-height: 0;max-width: 0;overflow: hidden;text-align: left;background-color: #f0f8ff;}#sk-container-id-3 div.sk-toggleable__content pre {margin: 0.2em;color: black;border-radius: 0.25em;background-color: #f0f8ff;}#sk-container-id-3 input.sk-toggleable__control:checked~div.sk-toggleable__content {max-height: 200px;max-width: 100%;overflow: auto;}#sk-container-id-3 input.sk-toggleable__control:checked~label.sk-toggleable__label-arrow:before {content: \"▾\";}#sk-container-id-3 div.sk-estimator input.sk-toggleable__control:checked~label.sk-toggleable__label {background-color: #d4ebff;}#sk-container-id-3 div.sk-label input.sk-toggleable__control:checked~label.sk-toggleable__label {background-color: #d4ebff;}#sk-container-id-3 input.sk-hidden--visually {border: 0;clip: rect(1px 1px 1px 1px);clip: rect(1px, 1px, 1px, 1px);height: 1px;margin: -1px;overflow: hidden;padding: 0;position: absolute;width: 1px;}#sk-container-id-3 div.sk-estimator {font-family: monospace;background-color: #f0f8ff;border: 1px dotted black;border-radius: 0.25em;box-sizing: border-box;margin-bottom: 0.5em;}#sk-container-id-3 div.sk-estimator:hover {background-color: #d4ebff;}#sk-container-id-3 div.sk-parallel-item::after {content: \"\";width: 100%;border-bottom: 1px solid gray;flex-grow: 1;}#sk-container-id-3 div.sk-label:hover label.sk-toggleable__label {background-color: #d4ebff;}#sk-container-id-3 div.sk-serial::before {content: \"\";position: absolute;border-left: 1px solid gray;box-sizing: border-box;top: 0;bottom: 0;left: 50%;z-index: 0;}#sk-container-id-3 div.sk-serial {display: flex;flex-direction: column;align-items: center;background-color: white;padding-right: 0.2em;padding-left: 0.2em;position: relative;}#sk-container-id-3 div.sk-item {position: relative;z-index: 1;}#sk-container-id-3 div.sk-parallel {display: flex;align-items: stretch;justify-content: center;background-color: white;position: relative;}#sk-container-id-3 div.sk-item::before, #sk-container-id-3 div.sk-parallel-item::before {content: \"\";position: absolute;border-left: 1px solid gray;box-sizing: border-box;top: 0;bottom: 0;left: 50%;z-index: -1;}#sk-container-id-3 div.sk-parallel-item {display: flex;flex-direction: column;z-index: 1;position: relative;background-color: white;}#sk-container-id-3 div.sk-parallel-item:first-child::after {align-self: flex-end;width: 50%;}#sk-container-id-3 div.sk-parallel-item:last-child::after {align-self: flex-start;width: 50%;}#sk-container-id-3 div.sk-parallel-item:only-child::after {width: 0;}#sk-container-id-3 div.sk-dashed-wrapped {border: 1px dashed gray;margin: 0 0.4em 0.5em 0.4em;box-sizing: border-box;padding-bottom: 0.4em;background-color: white;}#sk-container-id-3 div.sk-label label {font-family: monospace;font-weight: bold;display: inline-block;line-height: 1.2em;}#sk-container-id-3 div.sk-label-container {text-align: center;}#sk-container-id-3 div.sk-container {/* jupyter's `normalize.less` sets `[hidden] { display: none; }` but bootstrap.min.css set `[hidden] { display: none !important; }` so we also need the `!important` here to be able to override the default hidden behavior on the sphinx rendered scikit-learn.org. See: https://github.com/scikit-learn/scikit-learn/issues/21755 */display: inline-block !important;position: relative;}#sk-container-id-3 div.sk-text-repr-fallback {display: none;}</style><div id=\"sk-container-id-3\" class=\"sk-top-container\"><div class=\"sk-text-repr-fallback\"><pre>SGDClassifier(random_state=42)</pre><b>In a Jupyter environment, please rerun this cell to show the HTML representation or trust the notebook. <br />On GitHub, the HTML representation is unable to render, please try loading this page with nbviewer.org.</b></div><div class=\"sk-container\" hidden><div class=\"sk-item\"><div class=\"sk-estimator sk-toggleable\"><input class=\"sk-toggleable__control sk-hidden--visually\" id=\"sk-estimator-id-3\" type=\"checkbox\" checked><label for=\"sk-estimator-id-3\" class=\"sk-toggleable__label sk-toggleable__label-arrow\">SGDClassifier</label><div class=\"sk-toggleable__content\"><pre>SGDClassifier(random_state=42)</pre></div></div></div></div></div>"
      ],
      "text/plain": [
       "SGDClassifier(random_state=42)"
      ]
     },
     "execution_count": 13,
     "metadata": {},
     "output_type": "execute_result"
    }
   ],
   "source": [
    "from sklearn.linear_model import SGDClassifier\n",
    "sgd_clf = SGDClassifier(random_state=42)\n",
    "\n",
    "y_train_9 = (y_train == 9) # True for all 9s, False for all other digits.\n",
    "y_test_9 = (y_test == 9)\n",
    "\n",
    "sgd_clf.fit(X_train, y_train_9)"
   ]
  },
  {
   "cell_type": "raw",
   "id": "e7fddc28-620c-44e9-b934-d27651bc1632",
   "metadata": {
    "tags": []
   },
   "source": [
    "some_digit = X[17235]\n",
    "sgd_clf.predict([some_digit])\n",
    "\n",
    "if sgd_clf.predict([some_digit]) == 9:\n",
    "    print(True)\n",
    "else:\n",
    "    print(False)"
   ]
  },
  {
   "cell_type": "raw",
   "id": "c005de73-ebc5-445a-98f4-cf074778f794",
   "metadata": {
    "tags": []
   },
   "source": [
    "sgd_clf.fit(X_train, y_train)\n",
    "sgd_clf.predict(X_test)"
   ]
  },
  {
   "cell_type": "markdown",
   "id": "99322481-2373-437d-8418-302c92c12984",
   "metadata": {},
   "source": [
    "# Measuring Accuracy using Cross_Validation"
   ]
  },
  {
   "cell_type": "code",
   "execution_count": 25,
   "id": "83de4b3b-6a2d-4903-9ab3-6dba9be8ab5c",
   "metadata": {
    "tags": []
   },
   "outputs": [
    {
     "name": "stdout",
     "output_type": "stream",
     "text": [
      "0.9473\n",
      "0.90585\n",
      "0.9221\n"
     ]
    }
   ],
   "source": [
    "from sklearn.model_selection import StratifiedKFold\n",
    "from sklearn.base import clone\n",
    "\n",
    "skfolds = StratifiedKFold(n_splits=3)\n",
    "\n",
    "for train_index, test_index in skfolds.split(X_train, y_train_9):\n",
    "    clone_clf = clone(sgd_clf)\n",
    "    X_train_folds = X_train[train_index]\n",
    "    y_train_folds = (y_train_9[train_index])\n",
    "    X_test_fold = X_train[test_index]\n",
    "    y_test_fold = (y_train_9[test_index])\n",
    "\n",
    "    clone_clf.fit(X_train_folds, y_train_folds)\n",
    "    y_pred = clone_clf.predict(X_test_fold)\n",
    "    n_correct = sum(y_pred == y_test_fold)\n",
    "    print(n_correct / len(y_pred))"
   ]
  },
  {
   "cell_type": "code",
   "execution_count": 26,
   "id": "8494b68c-8595-45c3-9830-c53bd7c159ab",
   "metadata": {
    "tags": []
   },
   "outputs": [
    {
     "data": {
      "text/plain": [
       "array([0.9473 , 0.90585, 0.9221 ])"
      ]
     },
     "execution_count": 26,
     "metadata": {},
     "output_type": "execute_result"
    }
   ],
   "source": [
    "from sklearn.model_selection import cross_val_score\n",
    "\n",
    "cross_val_score(sgd_clf, X_train, y_train_9, cv=3, scoring='accuracy')"
   ]
  },
  {
   "cell_type": "markdown",
   "id": "245e2b2e-b7c5-4743-820d-38c9b9f66174",
   "metadata": {},
   "source": [
    "# Confusion Matrix"
   ]
  },
  {
   "cell_type": "code",
   "execution_count": 46,
   "id": "38b682a7-701e-41a4-81fe-ef11e30a7858",
   "metadata": {
    "tags": []
   },
   "outputs": [
    {
     "data": {
      "text/plain": [
       "array([[50648,  3403],\n",
       "       [ 1092,  4857]], dtype=int64)"
      ]
     },
     "execution_count": 46,
     "metadata": {},
     "output_type": "execute_result"
    }
   ],
   "source": [
    "from sklearn.model_selection import cross_val_predict\n",
    "\n",
    "y_train_pred = cross_val_predict(sgd_clf, X_train, y_train_9, cv=3)\n",
    "\n",
    "from sklearn.metrics import confusion_matrix\n",
    "\n",
    "confusion_matrix(y_train_9, y_train_pred)"
   ]
  },
  {
   "cell_type": "raw",
   "id": "87d428cf-8e84-48b4-95d2-4e1fffa6701a",
   "metadata": {},
   "source": [
    "The first row of the matrix classifies non-9s images (the negative class):\n",
    "        50648 of them were correctly classified as non-9s (true negatives), while the remaining 3403 were \n",
    "        wrongly classified as 9s (false positives).\n",
    "The second row considers the images of 9s (the positive class):\n",
    "        1092 were wrongly classified as non-9s (false neagatives), while the remaining 4857 were \n",
    "        correctly classified as 9s (true positives)"
   ]
  },
  {
   "cell_type": "code",
   "execution_count": 48,
   "id": "3e66f626-6f78-45d5-a7a1-7f40305ba259",
   "metadata": {
    "tags": []
   },
   "outputs": [
    {
     "name": "stdout",
     "output_type": "stream",
     "text": [
      "precision score = 0.5880\n",
      "recall score = 0.8164\n"
     ]
    }
   ],
   "source": [
    "from sklearn.metrics import precision_score, recall_score\n",
    "\n",
    "print('precision score = {:.4f}'.format(precision_score(y_train_9, y_train_pred)))\n",
    "print('recall score = {:.4f}'.format(recall_score(y_train_9, y_train_pred)))\n",
    "#help(precision_score)\n",
    "#help(recall_score)"
   ]
  },
  {
   "cell_type": "markdown",
   "id": "6c5f4be8-1794-42a7-8776-c1e5f95343a4",
   "metadata": {},
   "source": [
    "# Precision/Recall Tradeoff"
   ]
  },
  {
   "cell_type": "code",
   "execution_count": 50,
   "id": "feea5380-8feb-4a54-9387-fb027e60d61c",
   "metadata": {
    "tags": []
   },
   "outputs": [
    {
     "data": {
      "image/png": "[encoded data removed]",
      "text/plain": [
       "<Figure size 640x480 with 1 Axes>"
      ]
     },
     "metadata": {},
     "output_type": "display_data"
    }
   ],
   "source": [
    "# F1 score\n",
    "from sklearn.metrics import f1_score\n",
    "f1_score(y_train_9, y_train_pred)\n",
    "\n",
    "from sklearn.model_selection import cross_val_predict\n",
    "\n",
    "y_scores = cross_val_predict(sgd_clf, X_train, y_train_9, cv=3, method='decision_function')\n",
    "\n",
    "# threshold\n",
    "from sklearn.metrics import precision_recall_curve\n",
    "precisions, recalls, thresholds = precision_recall_curve(y_train_9, y_scores)\n",
    "\n",
    "# plotting precison and recall as functions\n",
    "%matplotlib inline\n",
    "import matplotlib.pyplot as plt\n",
    "\n",
    "def plot_precision_recall_vs_threshold(precisions, recalls, thresholds):\n",
    "    plt.plot(thresholds, precisions[:-1], \"b--\", label=\"Precision\")\n",
    "    plt.plot(thresholds, recalls[:-1], \"g-\", label=\"Recall\")\n",
    "    plt.xlabel(\"Threshold\")\n",
    "    plt.legend(loc=\"upper left\")\n",
    "    plt.ylim([0, 1])\n",
    "    plt.xlim([-60000,60000])\n",
    "plot_precision_recall_vs_threshold(precisions, recalls, thresholds)\n",
    "plt.show()"
   ]
  },
  {
   "cell_type": "code",
   "execution_count": 54,
   "id": "9e1e4cab-8228-44e6-9f4d-4afd1500cfb8",
   "metadata": {
    "tags": []
   },
   "outputs": [
    {
     "data": {
      "image/png": "[encoded data removed]",
      "text/plain": [
       "<Figure size 640x480 with 1 Axes>"
      ]
     },
     "metadata": {},
     "output_type": "display_data"
    }
   ],
   "source": [
    "# precision vs recall plot\n",
    "plt.plot(recalls, precisions, color='red',label='precision vs recall')\n",
    "plt.xlim([0,1])\n",
    "plt.ylim([0,1])\n",
    "plt.legend()\n",
    "plt.xlabel('recall')\n",
    "plt.ylabel('precision')\n",
    "plt.show()"
   ]
  },
  {
   "cell_type": "markdown",
   "id": "351e2644-cdb1-42ff-ad9a-b19196d06ab6",
   "metadata": {},
   "source": [
    "# Confusion Matrix for all values"
   ]
  },
  {
   "cell_type": "code",
   "execution_count": 30,
   "id": "5398e35f-0ef4-402d-a568-a03ab3b03ce1",
   "metadata": {
    "tags": []
   },
   "outputs": [
    {
     "data": {
      "text/plain": [
       "array([[5710,    1,   31,   46,   12,   27,   28,    2,   56,   10],\n",
       "       [   3, 6473,   60,   79,   12,   17,    6,   10,   73,    9],\n",
       "       [  49,   57, 5074,  389,   38,   35,   77,   59,  155,   25],\n",
       "       [  37,   19,  158, 5505,   25,   95,   14,   42,  183,   53],\n",
       "       [  36,   27,   60,   51, 5211,   17,   63,   17,   70,  290],\n",
       "       [  83,   30,   79,  453,  110, 4006,  109,   14,  471,   66],\n",
       "       [  63,   18,  133,   32,   69,  162, 5384,    2,   48,    7],\n",
       "       [  31,   16,  116,  106,  107,   21,    5, 5523,   64,  276],\n",
       "       [  52,  119,  220,  638,   97,  372,   33,   13, 4014,  293],\n",
       "       [  41,   21,   36,  186,  425,   57,    5,  196,  196, 4786]],\n",
       "      dtype=int64)"
      ]
     },
     "execution_count": 30,
     "metadata": {},
     "output_type": "execute_result"
    }
   ],
   "source": [
    "from sklearn.linear_model import SGDClassifier\n",
    "\n",
    "sgd_clf_2 = SGDClassifier(random_state=42).fit(X_train, y_train)\n",
    "sgd_clf_2.predict(X_test)\n",
    "\n",
    "from sklearn.model_selection import cross_val_predict\n",
    "from sklearn.metrics import confusion_matrix\n",
    "\n",
    "Y_train_pred = cross_val_predict(sgd_clf_2, X_train, y_train, cv=3)\n",
    "confusion_matrix(y_train, Y_train_pred)"
   ]
  },
  {
   "cell_type": "markdown",
   "id": "f9f0d3a5-aaf8-44c3-a6b1-b34286790a56",
   "metadata": {},
   "source": [
    "the rows represent the actual classes/values\n",
    "the columns represent the predicted classes/values"
   ]
  },
  {
   "cell_type": "code",
   "execution_count": 63,
   "id": "239d2b7a-8287-4a3e-8d1c-83f8fe9997e6",
   "metadata": {
    "tags": []
   },
   "outputs": [
    {
     "data": {
      "image/png": "[encoded data removed]",
      "text/plain": [
       "<Figure size 480x480 with 1 Axes>"
      ]
     },
     "metadata": {},
     "output_type": "display_data"
    }
   ],
   "source": [
    "%matplotlib inline\n",
    "import matplotlib.pyplot as plt\n",
    "\n",
    "conf_mat = confusion_matrix(y_train, Y_train_pred)\n",
    "plt.matshow(conf_mat,cmap=plt.cm.gray)\n",
    "plt.show()"
   ]
  },
  {
   "cell_type": "code",
   "execution_count": 32,
   "id": "243653e3-967d-43e2-a237-58613f9b4a8e",
   "metadata": {
    "tags": []
   },
   "outputs": [
    {
     "name": "stdout",
     "output_type": "stream",
     "text": [
      "5923\n",
      "6742\n",
      "5958\n",
      "6131\n",
      "5842\n",
      "5421\n",
      "5918\n",
      "6265\n",
      "5851\n",
      "5949\n",
      "Sum = 60000\n"
     ]
    }
   ],
   "source": [
    "S = 0\n",
    "for item in confusion_matrix(y_train, Y_train_pred):\n",
    "    print(sum(item))\n",
    "    S += sum(item)\n",
    "print(\"Sum =\", S)"
   ]
  },
  {
   "cell_type": "code",
   "execution_count": 42,
   "id": "3c8773bc-2554-4645-ab4a-67f1f786ea9e",
   "metadata": {
    "tags": []
   },
   "outputs": [
    {
     "name": "stdout",
     "output_type": "stream",
     "text": [
      "0.8618\n",
      "0.8587\n"
     ]
    }
   ],
   "source": [
    "from sklearn.metrics import precision_score, recall_score\n",
    "\n",
    "print('{:.4f}'.format(precision_score(y_train, Y_train_pred, average='macro')))\n",
    "print('{:.4f}'.format(recall_score(y_train, Y_train_pred, average='macro')))"
   ]
  },
  {
   "cell_type": "markdown",
   "id": "9d253b81-de67-4f95-90cb-1e18a79ca90b",
   "metadata": {},
   "source": [
    "# Errors"
   ]
  },
  {
   "cell_type": "code",
   "execution_count": 68,
   "id": "72dba458-65de-41a2-866d-fb66c8d5202a",
   "metadata": {
    "tags": []
   },
   "outputs": [
    {
     "data": {
      "image/png": "[encoded data removed]",
      "text/plain": [
       "<Figure size 480x480 with 1 Axes>"
      ]
     },
     "metadata": {},
     "output_type": "display_data"
    }
   ],
   "source": [
    "row_sums = conf_mat.sum(axis=1, keepdims=True)\n",
    "norm_conf_mat = conf_mat/row_sums\n",
    "\n",
    "# now we fill the diagonal elements by zeros to keep the errors only\n",
    "np.fill_diagonal(norm_conf_mat, 0)\n",
    "plt.matshow(norm_conf_mat, cmap=plt.cm.gray)\n",
    "plt.show()"
   ]
  },
  {
   "cell_type": "markdown",
   "id": "1d76061f-84f7-4aa0-9bac-637e108bfbcf",
   "metadata": {},
   "source": [
    "# Magic Gamma Dataset"
   ]
  },
  {
   "cell_type": "code",
   "execution_count": null,
   "id": "e0e93812-fb44-46c5-a0c9-2c45e1473af5",
   "metadata": {},
   "outputs": [],
   "source": []
  }
 ],
 "metadata": {
  "kernelspec": {
   "display_name": "Python 3 (ipykernel)",
   "language": "python",
   "name": "python3"
  },
  "language_info": {
   "codemirror_mode": {
    "name": "ipython",
    "version": 3
   },
   "file_extension": ".py",
   "mimetype": "text/x-python",
   "name": "python",
   "nbconvert_exporter": "python",
   "pygments_lexer": "ipython3",
   "version": "3.12.2"
  }
 },
 "nbformat": 4,
 "nbformat_minor": 5
}
