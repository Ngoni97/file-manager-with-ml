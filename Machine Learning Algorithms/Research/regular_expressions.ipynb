{
 "cells": [
  {
   "cell_type": "code",
   "execution_count": null,
   "id": "a7e5ecfc-fe60-448c-bf0a-67904edba297",
   "metadata": {},
   "outputs": [],
   "source": [
    "import re\n"
   ]
  },
  {
   "cell_type": "code",
   "execution_count": null,
   "id": "f33c4292-c33f-4c3b-abf1-a3c9c26eac54",
   "metadata": {},
   "outputs": [
    {
     "data": {
      "text/plain": [
       "<re.Match object; span=(2, 3), match='$'>"
      ]
     },
     "execution_count": 28,
     "metadata": {},
     "output_type": "execute_result"
    }
   ],
   "source": [
    "pattern = re.compile('[^a-zA-Z0-9]') # finds all symbols e.g., @,#\n",
    "pattern.search('t3$t!ng')\n"
   ]
  },
  {
   "cell_type": "code",
   "execution_count": null,
   "id": "470abb7e-1f99-4c3e-8ba1-f33f1dde55b4",
   "metadata": {},
   "outputs": [],
   "source": [
    "def replace_symbol(New_sentence):\n",
    "    return ' '\n"
   ]
  },
  {
   "cell_type": "code",
   "execution_count": null,
   "id": "04b38289-711e-4486-989c-e0b5924a25b0",
   "metadata": {},
   "outputs": [
    {
     "data": {
      "text/plain": [
       "'my n m3  s ng0n dz  h3'"
      ]
     },
     "execution_count": 17,
     "metadata": {},
     "output_type": "execute_result"
    }
   ],
   "source": [
    "sentence = 'my n@m3 !s ng0n!dz@$h3'\n",
    "new_sentence = re.sub(pattern, r' ', sentence)\n",
    "new_sentence\n"
   ]
  },
  {
   "cell_type": "code",
   "execution_count": null,
   "id": "2d00ec79-d1ad-4893-8c96-570eec51294b",
   "metadata": {},
   "outputs": [
    {
     "data": {
      "text/plain": [
       "'my n m3  s ng0n dz  h3'"
      ]
     },
     "execution_count": 14,
     "metadata": {},
     "output_type": "execute_result"
    }
   ],
   "source": [
    "New_sentence = re.sub(pattern, replace_symbol, sentence)\n",
    "New_sentence\n"
   ]
  },
  {
   "cell_type": "code",
   "execution_count": null,
   "id": "c8eb9fd2-3e23-415e-acf2-f1b3fbc8e9fa",
   "metadata": {},
   "outputs": [
    {
     "data": {
      "text/plain": [
       "'____ngoni____'"
      ]
     },
     "execution_count": 29,
     "metadata": {},
     "output_type": "execute_result"
    }
   ],
   "source": [
    "# remove numbers only\n",
    "PATTERN = re.compile('[^a-zA-Z]')\n",
    "Sentence = '1234ngoni7585'\n",
    "New_Sentence = re.sub(PATTERN, r'_', Sentence) # replaces the numbers with '_'\n",
    "New_Sentence\n"
   ]
  },
  {
   "cell_type": "code",
   "execution_count": null,
   "id": "b74db3e8-1232-4ecf-b64b-56afd30a758f",
   "metadata": {},
   "outputs": [
    {
     "name": "stdout",
     "output_type": "stream",
     "text": [
      "file1.pdf\n",
      "file4.pdf\n",
      "['file1', 'file4']\n"
     ]
    }
   ],
   "source": [
    "import re\n",
    "\n",
    "pattern = re.compile('.pdf$')\n",
    "files = ['file1.pdf', 'file2.docx', 'file3.py', 'file4.pdf']\n",
    "\n",
    "test_list = []\n",
    "for file in files:\n",
    "    result = re.search(pattern, file)\n",
    "    if result:\n",
    "        Result = re.sub(pattern, r'', file)\n",
    "        test_list.append(Result)\n",
    "    if result:\n",
    "        print(file)\n",
    "print(test_list)\n"
   ]
  },
  {
   "cell_type": "code",
   "execution_count": 4,
   "id": "f005aef2",
   "metadata": {},
   "outputs": [
    {
     "name": "stdout",
     "output_type": "stream",
     "text": [
      "Superb\n",
      "\n"
     ]
    }
   ],
   "source": [
    "grade = input(\"enter the grade letter: \").upper()\n",
    "\n",
    "match grade:\n",
    "    case \"A\":\n",
    "        print(\"Superb\\n\")\n",
    "    case \"B\":\n",
    "        print(\"Well done\\n\")\n"
   ]
  }
 ],
 "metadata": {
  "kernelspec": {
   "display_name": "base",
   "language": "python",
   "name": "python3"
  },
  "language_info": {
   "codemirror_mode": {
    "name": "ipython",
    "version": 3
   },
   "file_extension": ".py",
   "mimetype": "text/x-python",
   "name": "python",
   "nbconvert_exporter": "python",
   "pygments_lexer": "ipython3",
   "version": "3.12.2"
  }
 },
 "nbformat": 4,
 "nbformat_minor": 5
}
