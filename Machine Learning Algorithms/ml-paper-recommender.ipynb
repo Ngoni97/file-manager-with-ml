{
 "cells": [
  {
   "cell_type": "code",
   "execution_count": 1,
   "metadata": {
    "_cell_guid": "b1076dfc-b9ad-4769-8c92-a6c4dae69d19",
    "_uuid": "8f2839f25d086af736a60e9eeb907d3b93b6e0e5",
    "execution": {
     "iopub.execute_input": "2024-06-10T03:29:51.555022Z",
     "iopub.status.busy": "2024-06-10T03:29:51.553916Z",
     "iopub.status.idle": "2024-06-10T03:29:51.564121Z",
     "shell.execute_reply": "2024-06-10T03:29:51.563042Z",
     "shell.execute_reply.started": "2024-06-10T03:29:51.554982Z"
    },
    "trusted": true
   },
   "outputs": [
    {
     "data": {
      "text/plain": [
       "\"for dirname, _, filenames in os.walk('/kaggle/input'):\\n    for filename in filenames:\\n        print(os.path.join(dirname, filename))\""
      ]
     },
     "execution_count": 1,
     "metadata": {},
     "output_type": "execute_result"
    }
   ],
   "source": [
    "# This Python 3 environment comes with many helpful analytics libraries installed\n",
    "# It is defined by the kaggle/pat_timeython Docker image: https://github.com/kaggle/docker-python\n",
    "# For example, here's several helpful packages to load\n",
    "\n",
    "import numpy as np # linear algebra\n",
    "import pandas as pd # data processing, CSV file I/O (e.g. pd.read_csv)\n",
    "pd.set_option('display.max_colwidth', None)\n",
    "from sklearn.feature_extraction.text import TfidfVectorizer\n",
    "from sklearn.metrics.pairwise import cosine_similarity\n",
    "import numpy as np\n",
    "\n",
    "# Input data files are available in the read-only \"../input/\" directory\n",
    "# For example, running this (by clicking run or pressing Shift+Enter) will list all files under the input directory\n",
    "\n",
    "import os\n",
    "for dirname, _, filenames in os.walk('/kaggle/input'):\n",
    "    for filename in filenames:\n",
    "        print(os.path.join(dirname, filename))\n",
    "\n",
    "# You can write up to 20GB to the current directory (/kaggle/working/) that gets preserved as output when you create a version using \"Save & Run All\" \n",
    "# You can also write temporary files to /kaggle/temp/, but they won't be saved outside of the current session"
   ]
  },
  {
   "cell_type": "markdown",
   "metadata": {},
   "source": [
    "## Introduction\n",
    "Finding relevant ML research papers to read based on your interests can be a stressful task. What if you could just prompt an app with your interests to recommend a paper for you?\n",
    "\n",
    "In this notebook, we will build an ML app that can recommend research papers for you based on your interests.\n",
    "This is an NLP task"
   ]
  },
  {
   "cell_type": "code",
   "execution_count": null,
   "metadata": {
    "execution": {
     "iopub.execute_input": "2024-06-10T03:29:51.57164Z",
     "iopub.status.busy": "2024-06-10T03:29:51.571206Z",
     "iopub.status.idle": "2024-06-10T03:29:52.299146Z",
     "shell.execute_reply": "2024-06-10T03:29:52.297812Z",
     "shell.execute_reply.started": "2024-06-10T03:29:51.571597Z"
    },
    "trusted": true
   },
   "outputs": [],
   "source": [
    "## Read and load the training data\n",
    "data = pd.read_csv(\"/kaggle/input/arxiv-paper-abstracts/arxiv_data.csv\")\n",
    "data.head()"
   ]
  },
  {
   "cell_type": "markdown",
   "metadata": {},
   "source": [
    "The `terms` columns might not be relivant for this task. It is safe to drop it."
   ]
  },
  {
   "cell_type": "code",
   "execution_count": null,
   "metadata": {
    "execution": {
     "iopub.execute_input": "2024-06-10T03:29:52.301518Z",
     "iopub.status.busy": "2024-06-10T03:29:52.301142Z",
     "iopub.status.idle": "2024-06-10T03:29:52.310383Z",
     "shell.execute_reply": "2024-06-10T03:29:52.309064Z",
     "shell.execute_reply.started": "2024-06-10T03:29:52.301487Z"
    },
    "trusted": true
   },
   "outputs": [],
   "source": [
    "data =  data[[\"titles\",\"summaries\"]]"
   ]
  },
  {
   "cell_type": "code",
   "execution_count": null,
   "metadata": {
    "execution": {
     "iopub.execute_input": "2024-06-10T03:29:52.312234Z",
     "iopub.status.busy": "2024-06-10T03:29:52.311843Z",
     "iopub.status.idle": "2024-06-10T03:29:52.328193Z",
     "shell.execute_reply": "2024-06-10T03:29:52.326761Z",
     "shell.execute_reply.started": "2024-06-10T03:29:52.312203Z"
    },
    "trusted": true
   },
   "outputs": [],
   "source": [
    "data.head()"
   ]
  },
  {
   "cell_type": "code",
   "execution_count": null,
   "metadata": {
    "execution": {
     "iopub.execute_input": "2024-06-10T03:29:52.3311Z",
     "iopub.status.busy": "2024-06-10T03:29:52.330689Z",
     "iopub.status.idle": "2024-06-10T03:29:54.23593Z",
     "shell.execute_reply": "2024-06-10T03:29:54.234615Z",
     "shell.execute_reply.started": "2024-06-10T03:29:52.331058Z"
    },
    "trusted": true
   },
   "outputs": [],
   "source": [
    "# Text embedding with TF-IDF vectorizer\n",
    "tfidf_vec = TfidfVectorizer()\n",
    "\n",
    "tfidf_vec.fit(data[\"titles\"])\n",
    "\n",
    "data_tfidf = tfidf_vec.transform(data[\"titles\"])"
   ]
  },
  {
   "cell_type": "code",
   "execution_count": null,
   "metadata": {
    "execution": {
     "iopub.execute_input": "2024-06-10T03:29:54.238465Z",
     "iopub.status.busy": "2024-06-10T03:29:54.238008Z",
     "iopub.status.idle": "2024-06-10T03:29:54.247738Z",
     "shell.execute_reply": "2024-06-10T03:29:54.24655Z",
     "shell.execute_reply.started": "2024-06-10T03:29:54.238425Z"
    },
    "trusted": true
   },
   "outputs": [],
   "source": [
    "def find_most_similar_paper(query, data, tfidf_vectorizer, data_tfidf):\n",
    "    # Vectorize the query\n",
    "    query_vec = tfidf_vectorizer.transform([query])\n",
    "    \n",
    "    # Compute cosine similarity between the query and all documents\n",
    "    cosine_similarities = cosine_similarity(query_vec, data_tfidf).flatten()\n",
    "    \n",
    "    print(\"Query vector:\\n\", query_vec.toarray())\n",
    "    print(\"Data vectors:\\n\", data_tfidf.toarray())\n",
    "    print(\"Cosine similarities:\\n\", cosine_similarities)\n",
    "    \n",
    "    # Find the index of the most similar document\n",
    "    most_similar_idx = np.argmax(cosine_similarities)\n",
    "    \n",
    "    # Return the most similar document and similarity score\n",
    "    return data.iloc[most_similar_idx], cosine_similarities[most_similar_idx]"
   ]
  },
  {
   "cell_type": "code",
   "execution_count": null,
   "metadata": {
    "execution": {
     "iopub.execute_input": "2024-06-10T03:34:20.047871Z",
     "iopub.status.busy": "2024-06-10T03:34:20.047289Z",
     "iopub.status.idle": "2024-06-10T03:34:22.519467Z",
     "shell.execute_reply": "2024-06-10T03:34:22.518166Z",
     "shell.execute_reply.started": "2024-06-10T03:34:20.04783Z"
    },
    "trusted": true
   },
   "outputs": [],
   "source": [
    "query = \"i want a paper about ML and cyber security\"\n",
    "most_similar_paper, similarity_score = find_most_similar_paper(query, data, tfidf_vec, data_tfidf)\n",
    "\n",
    "print(f\"Most similar paper: {most_similar_paper}\")\n",
    "print(f\"Similarity score: {similarity_score}\")\n"
   ]
  },
  {
   "cell_type": "code",
   "execution_count": null,
   "metadata": {},
   "outputs": [],
   "source": []
  }
 ],
 "metadata": {
  "kaggle": {
   "accelerator": "none",
   "dataSources": [
    {
     "datasetId": 1611656,
     "sourceId": 2664123,
     "sourceType": "datasetVersion"
    }
   ],
   "dockerImageVersionId": 30732,
   "isGpuEnabled": false,
   "isInternetEnabled": true,
   "language": "python",
   "sourceType": "notebook"
  },
  "kernelspec": {
   "display_name": "base",
   "language": "python",
   "name": "python3"
  },
  "language_info": {
   "codemirror_mode": {
    "name": "ipython",
    "version": 3
   },
   "file_extension": ".py",
   "mimetype": "text/x-python",
   "name": "python",
   "nbconvert_exporter": "python",
   "pygments_lexer": "ipython3",
   "version": "3.12.2"
  }
 },
 "nbformat": 4,
 "nbformat_minor": 4
}
